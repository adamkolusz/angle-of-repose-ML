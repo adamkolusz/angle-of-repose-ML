{
 "cells": [
  {
   "cell_type": "code",
   "execution_count": 112,
   "metadata": {},
   "outputs": [
    {
     "name": "stderr",
     "output_type": "stream",
     "text": [
      "c:\\Users\\adamk\\Projects\\angle-of-repose-ML\\.venvML\\lib\\site-packages\\sklearn\\base.py:329: UserWarning: Trying to unpickle estimator DecisionTreeRegressor from version 1.1.1 when using version 1.1.2. This might lead to breaking code or invalid results. Use at your own risk. For more info please refer to:\n",
      "https://scikit-learn.org/stable/model_persistence.html#security-maintainability-limitations\n",
      "  warnings.warn(\n",
      "c:\\Users\\adamk\\Projects\\angle-of-repose-ML\\.venvML\\lib\\site-packages\\sklearn\\base.py:329: UserWarning: Trying to unpickle estimator RandomForestRegressor from version 1.1.1 when using version 1.1.2. This might lead to breaking code or invalid results. Use at your own risk. For more info please refer to:\n",
      "https://scikit-learn.org/stable/model_persistence.html#security-maintainability-limitations\n",
      "  warnings.warn(\n",
      "c:\\Users\\adamk\\Projects\\angle-of-repose-ML\\.venvML\\lib\\site-packages\\sklearn\\base.py:329: UserWarning: Trying to unpickle estimator Pipeline from version 1.1.1 when using version 1.1.2. This might lead to breaking code or invalid results. Use at your own risk. For more info please refer to:\n",
      "https://scikit-learn.org/stable/model_persistence.html#security-maintainability-limitations\n",
      "  warnings.warn(\n",
      "c:\\Users\\adamk\\Projects\\angle-of-repose-ML\\.venvML\\lib\\site-packages\\sklearn\\base.py:329: UserWarning: Trying to unpickle estimator GridSearchCV from version 1.1.1 when using version 1.1.2. This might lead to breaking code or invalid results. Use at your own risk. For more info please refer to:\n",
      "https://scikit-learn.org/stable/model_persistence.html#security-maintainability-limitations\n",
      "  warnings.warn(\n"
     ]
    }
   ],
   "source": [
    "import pandas as pd\n",
    "from sklearn import model_selection\n",
    "from sklearn.linear_model import LogisticRegression\n",
    "import pickle\n",
    "loaded_model = pickle.load(open(\"data/rf_regressor.pkl\", 'rb'))"
   ]
  },
  {
   "cell_type": "code",
   "execution_count": 113,
   "metadata": {},
   "outputs": [],
   "source": [
    "def swap_columns(df, col1, col2):\n",
    "    col_list = list(df.columns)\n",
    "    x, y = col_list.index(col1), col_list.index(col2)\n",
    "    col_list[y], col_list[x] = col_list[x], col_list[y]\n",
    "    df = df[col_list]\n",
    "    return df"
   ]
  },
  {
   "cell_type": "code",
   "execution_count": 114,
   "metadata": {},
   "outputs": [
    {
     "data": {
      "text/html": [
       "<div>\n",
       "<style scoped>\n",
       "    .dataframe tbody tr th:only-of-type {\n",
       "        vertical-align: middle;\n",
       "    }\n",
       "\n",
       "    .dataframe tbody tr th {\n",
       "        vertical-align: top;\n",
       "    }\n",
       "\n",
       "    .dataframe thead th {\n",
       "        text-align: right;\n",
       "    }\n",
       "</style>\n",
       "<table border=\"1\" class=\"dataframe\">\n",
       "  <thead>\n",
       "    <tr style=\"text-align: right;\">\n",
       "      <th></th>\n",
       "      <th>Name</th>\n",
       "      <th>friction coeff</th>\n",
       "      <th>adhesive dist</th>\n",
       "      <th>force fraction</th>\n",
       "      <th>restitution coeff</th>\n",
       "      <th>rolling resistance</th>\n",
       "      <th>tangential stiffness</th>\n",
       "      <th>simulated AoR</th>\n",
       "      <th>predicted AoR</th>\n",
       "    </tr>\n",
       "  </thead>\n",
       "  <tbody>\n",
       "    <tr>\n",
       "      <th>0</th>\n",
       "      <td>sim2</td>\n",
       "      <td>0.44</td>\n",
       "      <td>0.0011</td>\n",
       "      <td>0.22</td>\n",
       "      <td>0.22</td>\n",
       "      <td>0.32</td>\n",
       "      <td>0.52</td>\n",
       "      <td>42.957606</td>\n",
       "      <td>NaN</td>\n",
       "    </tr>\n",
       "    <tr>\n",
       "      <th>1</th>\n",
       "      <td>sim4</td>\n",
       "      <td>0.35</td>\n",
       "      <td>0.0007</td>\n",
       "      <td>0.40</td>\n",
       "      <td>0.17</td>\n",
       "      <td>0.32</td>\n",
       "      <td>0.75</td>\n",
       "      <td>43.763328</td>\n",
       "      <td>NaN</td>\n",
       "    </tr>\n",
       "    <tr>\n",
       "      <th>2</th>\n",
       "      <td>sim5</td>\n",
       "      <td>0.20</td>\n",
       "      <td>0.0005</td>\n",
       "      <td>0.10</td>\n",
       "      <td>0.10</td>\n",
       "      <td>0.20</td>\n",
       "      <td>0.20</td>\n",
       "      <td>28.576794</td>\n",
       "      <td>NaN</td>\n",
       "    </tr>\n",
       "    <tr>\n",
       "      <th>3</th>\n",
       "      <td>sim7</td>\n",
       "      <td>0.80</td>\n",
       "      <td>0.0005</td>\n",
       "      <td>0.34</td>\n",
       "      <td>0.22</td>\n",
       "      <td>0.56</td>\n",
       "      <td>0.20</td>\n",
       "      <td>46.152702</td>\n",
       "      <td>NaN</td>\n",
       "    </tr>\n",
       "    <tr>\n",
       "      <th>4</th>\n",
       "      <td>sim8</td>\n",
       "      <td>0.38</td>\n",
       "      <td>0.0013</td>\n",
       "      <td>0.31</td>\n",
       "      <td>0.12</td>\n",
       "      <td>0.51</td>\n",
       "      <td>0.60</td>\n",
       "      <td>51.285944</td>\n",
       "      <td>NaN</td>\n",
       "    </tr>\n",
       "  </tbody>\n",
       "</table>\n",
       "</div>"
      ],
      "text/plain": [
       "   Name  friction coeff  adhesive dist  force fraction  restitution coeff  \\\n",
       "0  sim2            0.44         0.0011            0.22               0.22   \n",
       "1  sim4            0.35         0.0007            0.40               0.17   \n",
       "2  sim5            0.20         0.0005            0.10               0.10   \n",
       "3  sim7            0.80         0.0005            0.34               0.22   \n",
       "4  sim8            0.38         0.0013            0.31               0.12   \n",
       "\n",
       "   rolling resistance  tangential stiffness  simulated AoR  predicted AoR  \n",
       "0                0.32                  0.52      42.957606            NaN  \n",
       "1                0.32                  0.75      43.763328            NaN  \n",
       "2                0.20                  0.20      28.576794            NaN  \n",
       "3                0.56                  0.20      46.152702            NaN  \n",
       "4                0.51                  0.60      51.285944            NaN  "
      ]
     },
     "execution_count": 114,
     "metadata": {},
     "output_type": "execute_result"
    }
   ],
   "source": [
    "df = pd.read_excel(\"data\\DEM Simulations Data.xlsx\", usecols=\"A:I\")\n",
    "df.head()\n"
   ]
  },
  {
   "cell_type": "code",
   "execution_count": 115,
   "metadata": {},
   "outputs": [
    {
     "data": {
      "text/html": [
       "<div>\n",
       "<style scoped>\n",
       "    .dataframe tbody tr th:only-of-type {\n",
       "        vertical-align: middle;\n",
       "    }\n",
       "\n",
       "    .dataframe tbody tr th {\n",
       "        vertical-align: top;\n",
       "    }\n",
       "\n",
       "    .dataframe thead th {\n",
       "        text-align: right;\n",
       "    }\n",
       "</style>\n",
       "<table border=\"1\" class=\"dataframe\">\n",
       "  <thead>\n",
       "    <tr style=\"text-align: right;\">\n",
       "      <th></th>\n",
       "      <th>Name</th>\n",
       "      <th>friction coeff</th>\n",
       "      <th>adhesive dist</th>\n",
       "      <th>force fraction</th>\n",
       "      <th>restitution coeff</th>\n",
       "      <th>rolling resistance</th>\n",
       "      <th>tangential stiffness</th>\n",
       "      <th>simulated AoR</th>\n",
       "      <th>predicted AoR</th>\n",
       "    </tr>\n",
       "  </thead>\n",
       "  <tbody>\n",
       "    <tr>\n",
       "      <th>0</th>\n",
       "      <td>sim2</td>\n",
       "      <td>0.44</td>\n",
       "      <td>0.0011</td>\n",
       "      <td>0.22</td>\n",
       "      <td>0.22</td>\n",
       "      <td>0.32</td>\n",
       "      <td>0.52</td>\n",
       "      <td>42.957606</td>\n",
       "      <td>NaN</td>\n",
       "    </tr>\n",
       "    <tr>\n",
       "      <th>1</th>\n",
       "      <td>sim4</td>\n",
       "      <td>0.35</td>\n",
       "      <td>0.0007</td>\n",
       "      <td>0.40</td>\n",
       "      <td>0.17</td>\n",
       "      <td>0.32</td>\n",
       "      <td>0.75</td>\n",
       "      <td>43.763328</td>\n",
       "      <td>NaN</td>\n",
       "    </tr>\n",
       "    <tr>\n",
       "      <th>4</th>\n",
       "      <td>sim8</td>\n",
       "      <td>0.38</td>\n",
       "      <td>0.0013</td>\n",
       "      <td>0.31</td>\n",
       "      <td>0.12</td>\n",
       "      <td>0.51</td>\n",
       "      <td>0.60</td>\n",
       "      <td>51.285944</td>\n",
       "      <td>NaN</td>\n",
       "    </tr>\n",
       "    <tr>\n",
       "      <th>5</th>\n",
       "      <td>sim9</td>\n",
       "      <td>0.50</td>\n",
       "      <td>0.0010</td>\n",
       "      <td>0.20</td>\n",
       "      <td>0.20</td>\n",
       "      <td>0.40</td>\n",
       "      <td>0.70</td>\n",
       "      <td>48.167879</td>\n",
       "      <td>NaN</td>\n",
       "    </tr>\n",
       "    <tr>\n",
       "      <th>6</th>\n",
       "      <td>sim10</td>\n",
       "      <td>0.30</td>\n",
       "      <td>0.0012</td>\n",
       "      <td>0.32</td>\n",
       "      <td>0.29</td>\n",
       "      <td>0.30</td>\n",
       "      <td>0.40</td>\n",
       "      <td>46.872942</td>\n",
       "      <td>NaN</td>\n",
       "    </tr>\n",
       "  </tbody>\n",
       "</table>\n",
       "</div>"
      ],
      "text/plain": [
       "    Name  friction coeff  adhesive dist  force fraction  restitution coeff  \\\n",
       "0   sim2            0.44         0.0011            0.22               0.22   \n",
       "1   sim4            0.35         0.0007            0.40               0.17   \n",
       "4   sim8            0.38         0.0013            0.31               0.12   \n",
       "5   sim9            0.50         0.0010            0.20               0.20   \n",
       "6  sim10            0.30         0.0012            0.32               0.29   \n",
       "\n",
       "   rolling resistance  tangential stiffness  simulated AoR  predicted AoR  \n",
       "0                0.32                  0.52      42.957606            NaN  \n",
       "1                0.32                  0.75      43.763328            NaN  \n",
       "4                0.51                  0.60      51.285944            NaN  \n",
       "5                0.40                  0.70      48.167879            NaN  \n",
       "6                0.30                  0.40      46.872942            NaN  "
      ]
     },
     "execution_count": 115,
     "metadata": {},
     "output_type": "execute_result"
    }
   ],
   "source": [
    "drop_indexes = [2, 3, 10, 11, 12, 13, 14, 15, 18]\n",
    "df_drop = df.copy()\n",
    "df_drop.drop(drop_indexes, axis=0, inplace=True)\n",
    "df_drop.head()"
   ]
  },
  {
   "cell_type": "code",
   "execution_count": 116,
   "metadata": {},
   "outputs": [],
   "source": [
    "X = df.to_numpy()\n",
    "X_drop = df_drop.to_numpy()"
   ]
  },
  {
   "cell_type": "code",
   "execution_count": 117,
   "metadata": {},
   "outputs": [
    {
     "data": {
      "text/plain": [
       "array([['sim2', 0.44, 0.0011, 0.22, 0.22, 0.32, 0.52, 42.9576062664117,\n",
       "        nan],\n",
       "       ['sim4', 0.35, 0.0007, 0.4, 0.17, 0.32, 0.75, 43.7633284772604,\n",
       "        nan],\n",
       "       ['sim5', 0.2, 0.0005, 0.1, 0.1, 0.2, 0.2, 28.5767935646229, nan],\n",
       "       ['sim7', 0.8, 0.0005, 0.34, 0.22, 0.56, 0.2, 46.1527020049389,\n",
       "        nan],\n",
       "       ['sim8', 0.38, 0.0013, 0.31, 0.12, 0.51, 0.6, 51.2859442518568,\n",
       "        nan],\n",
       "       ['sim9', 0.5, 0.001, 0.2, 0.2, 0.4, 0.7, 48.1678787092821, nan],\n",
       "       ['sim10', 0.3, 0.0012, 0.32, 0.29, 0.3, 0.4, 46.8729418163991,\n",
       "        nan],\n",
       "       ['sim11', 0.4, 0.0006, 0.22, 0.2, 0.4, 0.2, 39.967677810189, nan],\n",
       "       ['sim12', 0.49, 0.0012, 0.21, 0.23, 0.24, 0.2, 41.1666628688084,\n",
       "        nan],\n",
       "       ['sim14', 0.72, 0.0006, 0.1, 0.1, 0.23, 0.3, 38.2182312645208,\n",
       "        nan],\n",
       "       ['sim15', 0.47, 0.0008, 0.36, 0.31, 0.53, 0.6, 51.2859442518568,\n",
       "        nan],\n",
       "       ['sim16', 0.25, 0.0015, 0.33, 0.13, 0.22, 0.25, 47.7951146801621,\n",
       "        nan],\n",
       "       ['sim17', 0.48, 0.0007, 0.3, 0.13, 0.2, 0.68, 39.0635397421922,\n",
       "        nan],\n",
       "       ['sim18', 0.2, 0.0015, 0.4, 0.4, 0.8, 1.0, 52.1097245429034, nan],\n",
       "       ['sim19', 0.48, 0.0007, 0.13, 0.19, 0.8, 0.2, 50.3181594379289,\n",
       "        nan],\n",
       "       ['sim20', 0.5, 0.001, 0.25, 0.4, 0.5, 1.0, 47.5447354932905, nan],\n",
       "       ['sim21', 0.2604164614785517, 0.001038568119792617,\n",
       "        0.3153079769213871, 0.367340631776637, 0.5508379809932414,\n",
       "        0.2188954729220777, 43.1753270067145, nan],\n",
       "       ['sim22', 0.2575957694486122, 0.000764896979721368,\n",
       "        0.28400236864880696, 0.2777528786336332, 0.6294815018957033,\n",
       "        0.30699621553131345, 40.5320910837827, nan],\n",
       "       ['sim23', 0.22908349686660734, 0.0013592417925800187,\n",
       "        0.22749663482402976, 0.2732578463615396, 0.44160232550541884,\n",
       "        0.9964234267058909, 43.5833487025625, nan],\n",
       "       ['sim24', 0.20289657804838365, 0.0012342860374713579,\n",
       "        0.2687534083620467, 0.2555406430473659, 0.5851407930725676,\n",
       "        0.3175989273705006, 40.2117498476213, nan],\n",
       "       ['sim25', 0.3199522466521314, 0.0008875233914426713,\n",
       "        0.27712949291036126, 0.18434633711201792, 0.3044279788519188,\n",
       "        0.7102570385040146, 40.8504061068659, nan]], dtype=object)"
      ]
     },
     "execution_count": 117,
     "metadata": {},
     "output_type": "execute_result"
    }
   ],
   "source": [
    "X"
   ]
  },
  {
   "cell_type": "code",
   "execution_count": 128,
   "metadata": {},
   "outputs": [
    {
     "name": "stdout",
     "output_type": "stream",
     "text": [
      "[41.419719753989824, 42.56416737661214, 35.621767714646474, 52.288033190883155, 48.68402175867788, 48.53551231660816, 45.689916461715384, 40.14554081209256, 39.634628645751334, 38.179803185397304, 44.17862315532627, 44.865729304428186, 44.302455505766176, 45.971881527777725, 52.00022669304803, 49.75139110633133, 45.24523787617022, 38.57020444444445, 41.1366728968254, 43.322622698412694, 41.817207135431566]\n",
      "[41.419719753989824, 42.56416737661214, 48.68402175867788, 48.53551231660816, 45.689916461715384, 40.14554081209256, 39.634628645751334, 38.179803185397304, 45.24523787617022, 38.57020444444445, 43.322622698412694, 41.817207135431566]\n"
     ]
    },
    {
     "name": "stderr",
     "output_type": "stream",
     "text": [
      "c:\\Users\\adamk\\Projects\\angle-of-repose-ML\\.venvML\\lib\\site-packages\\sklearn\\base.py:450: UserWarning: X does not have valid feature names, but RandomForestRegressor was fitted with feature names\n",
      "  warnings.warn(\n",
      "c:\\Users\\adamk\\Projects\\angle-of-repose-ML\\.venvML\\lib\\site-packages\\sklearn\\base.py:450: UserWarning: X does not have valid feature names, but RandomForestRegressor was fitted with feature names\n",
      "  warnings.warn(\n",
      "c:\\Users\\adamk\\Projects\\angle-of-repose-ML\\.venvML\\lib\\site-packages\\sklearn\\base.py:450: UserWarning: X does not have valid feature names, but RandomForestRegressor was fitted with feature names\n",
      "  warnings.warn(\n",
      "c:\\Users\\adamk\\Projects\\angle-of-repose-ML\\.venvML\\lib\\site-packages\\sklearn\\base.py:450: UserWarning: X does not have valid feature names, but RandomForestRegressor was fitted with feature names\n",
      "  warnings.warn(\n",
      "c:\\Users\\adamk\\Projects\\angle-of-repose-ML\\.venvML\\lib\\site-packages\\sklearn\\base.py:450: UserWarning: X does not have valid feature names, but RandomForestRegressor was fitted with feature names\n",
      "  warnings.warn(\n",
      "c:\\Users\\adamk\\Projects\\angle-of-repose-ML\\.venvML\\lib\\site-packages\\sklearn\\base.py:450: UserWarning: X does not have valid feature names, but RandomForestRegressor was fitted with feature names\n",
      "  warnings.warn(\n",
      "c:\\Users\\adamk\\Projects\\angle-of-repose-ML\\.venvML\\lib\\site-packages\\sklearn\\base.py:450: UserWarning: X does not have valid feature names, but RandomForestRegressor was fitted with feature names\n",
      "  warnings.warn(\n",
      "c:\\Users\\adamk\\Projects\\angle-of-repose-ML\\.venvML\\lib\\site-packages\\sklearn\\base.py:450: UserWarning: X does not have valid feature names, but RandomForestRegressor was fitted with feature names\n",
      "  warnings.warn(\n",
      "c:\\Users\\adamk\\Projects\\angle-of-repose-ML\\.venvML\\lib\\site-packages\\sklearn\\base.py:450: UserWarning: X does not have valid feature names, but RandomForestRegressor was fitted with feature names\n",
      "  warnings.warn(\n",
      "c:\\Users\\adamk\\Projects\\angle-of-repose-ML\\.venvML\\lib\\site-packages\\sklearn\\base.py:450: UserWarning: X does not have valid feature names, but RandomForestRegressor was fitted with feature names\n",
      "  warnings.warn(\n",
      "c:\\Users\\adamk\\Projects\\angle-of-repose-ML\\.venvML\\lib\\site-packages\\sklearn\\base.py:450: UserWarning: X does not have valid feature names, but RandomForestRegressor was fitted with feature names\n",
      "  warnings.warn(\n",
      "c:\\Users\\adamk\\Projects\\angle-of-repose-ML\\.venvML\\lib\\site-packages\\sklearn\\base.py:450: UserWarning: X does not have valid feature names, but RandomForestRegressor was fitted with feature names\n",
      "  warnings.warn(\n",
      "c:\\Users\\adamk\\Projects\\angle-of-repose-ML\\.venvML\\lib\\site-packages\\sklearn\\base.py:450: UserWarning: X does not have valid feature names, but RandomForestRegressor was fitted with feature names\n",
      "  warnings.warn(\n",
      "c:\\Users\\adamk\\Projects\\angle-of-repose-ML\\.venvML\\lib\\site-packages\\sklearn\\base.py:450: UserWarning: X does not have valid feature names, but RandomForestRegressor was fitted with feature names\n",
      "  warnings.warn(\n",
      "c:\\Users\\adamk\\Projects\\angle-of-repose-ML\\.venvML\\lib\\site-packages\\sklearn\\base.py:450: UserWarning: X does not have valid feature names, but RandomForestRegressor was fitted with feature names\n",
      "  warnings.warn(\n",
      "c:\\Users\\adamk\\Projects\\angle-of-repose-ML\\.venvML\\lib\\site-packages\\sklearn\\base.py:450: UserWarning: X does not have valid feature names, but RandomForestRegressor was fitted with feature names\n",
      "  warnings.warn(\n",
      "c:\\Users\\adamk\\Projects\\angle-of-repose-ML\\.venvML\\lib\\site-packages\\sklearn\\base.py:450: UserWarning: X does not have valid feature names, but RandomForestRegressor was fitted with feature names\n",
      "  warnings.warn(\n",
      "c:\\Users\\adamk\\Projects\\angle-of-repose-ML\\.venvML\\lib\\site-packages\\sklearn\\base.py:450: UserWarning: X does not have valid feature names, but RandomForestRegressor was fitted with feature names\n",
      "  warnings.warn(\n",
      "c:\\Users\\adamk\\Projects\\angle-of-repose-ML\\.venvML\\lib\\site-packages\\sklearn\\base.py:450: UserWarning: X does not have valid feature names, but RandomForestRegressor was fitted with feature names\n",
      "  warnings.warn(\n",
      "c:\\Users\\adamk\\Projects\\angle-of-repose-ML\\.venvML\\lib\\site-packages\\sklearn\\base.py:450: UserWarning: X does not have valid feature names, but RandomForestRegressor was fitted with feature names\n",
      "  warnings.warn(\n",
      "c:\\Users\\adamk\\Projects\\angle-of-repose-ML\\.venvML\\lib\\site-packages\\sklearn\\base.py:450: UserWarning: X does not have valid feature names, but RandomForestRegressor was fitted with feature names\n",
      "  warnings.warn(\n",
      "c:\\Users\\adamk\\Projects\\angle-of-repose-ML\\.venvML\\lib\\site-packages\\sklearn\\base.py:450: UserWarning: X does not have valid feature names, but RandomForestRegressor was fitted with feature names\n",
      "  warnings.warn(\n",
      "c:\\Users\\adamk\\Projects\\angle-of-repose-ML\\.venvML\\lib\\site-packages\\sklearn\\base.py:450: UserWarning: X does not have valid feature names, but RandomForestRegressor was fitted with feature names\n",
      "  warnings.warn(\n",
      "c:\\Users\\adamk\\Projects\\angle-of-repose-ML\\.venvML\\lib\\site-packages\\sklearn\\base.py:450: UserWarning: X does not have valid feature names, but RandomForestRegressor was fitted with feature names\n",
      "  warnings.warn(\n",
      "c:\\Users\\adamk\\Projects\\angle-of-repose-ML\\.venvML\\lib\\site-packages\\sklearn\\base.py:450: UserWarning: X does not have valid feature names, but RandomForestRegressor was fitted with feature names\n",
      "  warnings.warn(\n",
      "c:\\Users\\adamk\\Projects\\angle-of-repose-ML\\.venvML\\lib\\site-packages\\sklearn\\base.py:450: UserWarning: X does not have valid feature names, but RandomForestRegressor was fitted with feature names\n",
      "  warnings.warn(\n",
      "c:\\Users\\adamk\\Projects\\angle-of-repose-ML\\.venvML\\lib\\site-packages\\sklearn\\base.py:450: UserWarning: X does not have valid feature names, but RandomForestRegressor was fitted with feature names\n",
      "  warnings.warn(\n",
      "c:\\Users\\adamk\\Projects\\angle-of-repose-ML\\.venvML\\lib\\site-packages\\sklearn\\base.py:450: UserWarning: X does not have valid feature names, but RandomForestRegressor was fitted with feature names\n",
      "  warnings.warn(\n",
      "c:\\Users\\adamk\\Projects\\angle-of-repose-ML\\.venvML\\lib\\site-packages\\sklearn\\base.py:450: UserWarning: X does not have valid feature names, but RandomForestRegressor was fitted with feature names\n",
      "  warnings.warn(\n",
      "c:\\Users\\adamk\\Projects\\angle-of-repose-ML\\.venvML\\lib\\site-packages\\sklearn\\base.py:450: UserWarning: X does not have valid feature names, but RandomForestRegressor was fitted with feature names\n",
      "  warnings.warn(\n",
      "c:\\Users\\adamk\\Projects\\angle-of-repose-ML\\.venvML\\lib\\site-packages\\sklearn\\base.py:450: UserWarning: X does not have valid feature names, but RandomForestRegressor was fitted with feature names\n",
      "  warnings.warn(\n",
      "c:\\Users\\adamk\\Projects\\angle-of-repose-ML\\.venvML\\lib\\site-packages\\sklearn\\base.py:450: UserWarning: X does not have valid feature names, but RandomForestRegressor was fitted with feature names\n",
      "  warnings.warn(\n",
      "c:\\Users\\adamk\\Projects\\angle-of-repose-ML\\.venvML\\lib\\site-packages\\sklearn\\base.py:450: UserWarning: X does not have valid feature names, but RandomForestRegressor was fitted with feature names\n",
      "  warnings.warn(\n"
     ]
    }
   ],
   "source": [
    "errors = []\n",
    "errors_drop = []\n",
    "predicted_aor = []\n",
    "predicted_aor_drop = []\n",
    "for i in X:\n",
    "    result = loaded_model.predict(i[1:7].reshape(6,-1).T)\n",
    "    # print(i)\n",
    "    # print(result)\n",
    "    diff = i[7]-result\n",
    "    errors.append(float(diff))\n",
    "    # print(f\"{diff=}\")\n",
    "    predicted_aor.append(float(result))\n",
    " \n",
    "for i in X_drop:\n",
    "    result = loaded_model.predict(i[1:7].reshape(6,-1).T)\n",
    "    # print(i)\n",
    "    # print(result)\n",
    "    diff = i[7]-result\n",
    "    errors_drop.append(float(diff))\n",
    "    # print(f\"{diff=}\")\n",
    "    predicted_aor_drop.append(float(result))   \n",
    "\n",
    "print(predicted_aor)\n",
    "print(predicted_aor_drop)"
   ]
  },
  {
   "cell_type": "code",
   "execution_count": 129,
   "metadata": {},
   "outputs": [],
   "source": [
    "df['predicted AoR'] = predicted_aor\n",
    "df['error'] = errors\n",
    "df_drop['predicted AoR'] = predicted_aor_drop\n",
    "df_drop['error'] = errors_drop\n"
   ]
  },
  {
   "cell_type": "code",
   "execution_count": 120,
   "metadata": {},
   "outputs": [],
   "source": [
    "from sklearn.metrics import r2_score, mean_absolute_error, mean_squared_error\n",
    "import numpy as np"
   ]
  },
  {
   "cell_type": "code",
   "execution_count": 132,
   "metadata": {},
   "outputs": [
    {
     "name": "stdout",
     "output_type": "stream",
     "text": [
      "(21,)\n",
      "(21,)\n",
      "(12,)\n",
      "(12,)\n"
     ]
    }
   ],
   "source": [
    "y_test = np.array(df['simulated AoR'])\n",
    "y_hat = np.array(predicted_aor)\n",
    "y_test_dropped = np.array(df_drop['simulated AoR'])\n",
    "y_hat_dropped = np.array(predicted_aor_drop)\n",
    "print(y_test.shape)\n",
    "print(y_hat.shape)\n",
    "print(y_test_dropped.shape)\n",
    "print(y_hat_dropped.shape)\n"
   ]
  },
  {
   "cell_type": "code",
   "execution_count": 133,
   "metadata": {},
   "outputs": [
    {
     "name": "stdout",
     "output_type": "stream",
     "text": [
      "len(y_hat_dropped)=12, 12\n"
     ]
    }
   ],
   "source": [
    "print(f'{len(y_hat_dropped)=}, {len(y_test_dropped)}')"
   ]
  },
  {
   "cell_type": "code",
   "execution_count": 134,
   "metadata": {},
   "outputs": [
    {
     "data": {
      "text/plain": [
       "array([42.95760627, 43.76332848, 51.28594425, 48.16787871, 46.87294182,\n",
       "       39.96767781, 41.16666287, 38.21823126, 43.17532701, 40.53209108,\n",
       "       40.21174985, 40.85040611])"
      ]
     },
     "execution_count": 134,
     "metadata": {},
     "output_type": "execute_result"
    }
   ],
   "source": [
    "y_test_dropped"
   ]
  },
  {
   "cell_type": "code",
   "execution_count": 135,
   "metadata": {},
   "outputs": [
    {
     "name": "stdout",
     "output_type": "stream",
     "text": [
      "y_test[i]=42.96, y_test[i]=42.96\n",
      "y_test[i]=43.76, y_test[i]=43.76\n",
      "y_test[i]=28.58, y_test[i]=28.58\n",
      "y_test[i]=46.15, y_test[i]=46.15\n",
      "y_test[i]=51.29, y_test[i]=51.29\n",
      "y_test[i]=48.17, y_test[i]=48.17\n",
      "y_test[i]=46.87, y_test[i]=46.87\n",
      "y_test[i]=39.97, y_test[i]=39.97\n",
      "y_test[i]=41.17, y_test[i]=41.17\n",
      "y_test[i]=38.22, y_test[i]=38.22\n",
      "y_test[i]=51.29, y_test[i]=51.29\n",
      "y_test[i]=47.80, y_test[i]=47.80\n",
      "y_test[i]=39.06, y_test[i]=39.06\n",
      "y_test[i]=52.11, y_test[i]=52.11\n",
      "y_test[i]=50.32, y_test[i]=50.32\n",
      "y_test[i]=47.54, y_test[i]=47.54\n",
      "y_test[i]=43.18, y_test[i]=43.18\n",
      "y_test[i]=40.53, y_test[i]=40.53\n",
      "y_test[i]=43.58, y_test[i]=43.58\n",
      "y_test[i]=40.21, y_test[i]=40.21\n",
      "y_test[i]=40.85, y_test[i]=40.85\n"
     ]
    }
   ],
   "source": [
    "for i in range(len(y_test)):\n",
    "    print(f'{y_test[i]=:.2f}, {y_test[i]=:.2f}')"
   ]
  },
  {
   "cell_type": "code",
   "execution_count": 139,
   "metadata": {},
   "outputs": [
    {
     "name": "stdout",
     "output_type": "stream",
     "text": [
      "Errors without parameters close to boundaries:\n",
      "\tpred_r2_drop=0.80\tpred_MAE_drop=1.40\tpred_MSE_drop=2.77\n",
      "Errors with all simulations:\n",
      "\tpred_r2=0.59\t\tpred_MAE=2.75\t\tpred_MSE=12.31\n"
     ]
    }
   ],
   "source": [
    "pred_r2_drop = r2_score(y_test_dropped, y_hat_dropped) \n",
    "pred_MAE_drop = mean_absolute_error(y_test_dropped, y_hat_dropped)\n",
    "pred_MSE_drop = mean_squared_error(y_test_dropped, y_hat_dropped)\n",
    "\n",
    "pred_r2 = r2_score(y_test, y_hat) \n",
    "pred_MAE = mean_absolute_error(y_test, y_hat)\n",
    "pred_MSE = mean_squared_error(y_test, y_hat)\n",
    "print(f\"Errors without parameters close to boundaries:\\n\\t{pred_r2_drop=:.2f}\\t{pred_MAE_drop=:.2f}\\t{pred_MSE_drop=:.2f}\")\n",
    "\n",
    "print(f\"Errors with all simulations:\\n\\t{pred_r2=:.2f}\\t\\t{pred_MAE=:.2f}\\t\\t{pred_MSE=:.2f}\")\n",
    "# es.append([algo, curr_r2, curr_MAE, curr_MSE])"
   ]
  },
  {
   "cell_type": "code",
   "execution_count": 140,
   "metadata": {},
   "outputs": [
    {
     "name": "stdout",
     "output_type": "stream",
     "text": [
      "DataFrame is exported successfully to 'converted-to-excel.xlsx' Excel File.\n"
     ]
    },
    {
     "name": "stderr",
     "output_type": "stream",
     "text": [
      "C:\\Users\\adamk\\AppData\\Local\\Temp\\ipykernel_14132\\2516569513.py:7: FutureWarning: save is not part of the public API, usage can give in unexpected results and will be removed in a future version\n",
      "  writer.save()\n"
     ]
    }
   ],
   "source": [
    "writer = pd.ExcelWriter('predicted_aor_dropped.xlsx')\n",
    "# write dataframe to excel\n",
    " \n",
    "df_drop.to_excel(writer)\n",
    " \n",
    "# save the excel\n",
    "writer.save()\n",
    "print(\"DataFrame is exported successfully to 'converted-to-excel.xlsx' Excel File.\")\n"
   ]
  }
 ],
 "metadata": {
  "kernelspec": {
   "display_name": "Python 3.10.8 ('.venvML': venv)",
   "language": "python",
   "name": "python3"
  },
  "language_info": {
   "codemirror_mode": {
    "name": "ipython",
    "version": 3
   },
   "file_extension": ".py",
   "mimetype": "text/x-python",
   "name": "python",
   "nbconvert_exporter": "python",
   "pygments_lexer": "ipython3",
   "version": "3.10.8"
  },
  "orig_nbformat": 4,
  "vscode": {
   "interpreter": {
    "hash": "1b4d48f26e52be2a67f8c021b79cc8417aaa03976caf4f06facbde19b8dc6d04"
   }
  }
 },
 "nbformat": 4,
 "nbformat_minor": 2
}
