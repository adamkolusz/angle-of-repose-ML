{
 "cells": [
  {
   "cell_type": "code",
   "execution_count": 490,
   "metadata": {},
   "outputs": [],
   "source": [
    "import pandas as pd\n",
    "from sklearn import model_selection\n",
    "from sklearn.linear_model import LogisticRegression\n",
    "import pickle\n",
    "import os\n",
    "from sklearn.metrics import r2_score, mean_absolute_error, mean_squared_error\n",
    "import numpy as np\n",
    "import warnings\n",
    "warnings.filterwarnings('ignore') # setting ignore as a parameter"
   ]
  },
  {
   "cell_type": "code",
   "execution_count": 491,
   "metadata": {},
   "outputs": [],
   "source": [
    "# df_drop.head()"
   ]
  },
  {
   "cell_type": "code",
   "execution_count": 492,
   "metadata": {},
   "outputs": [],
   "source": [
    "def swap_columns(df, col1, col2):\n",
    "    col_list = list(df.columns)\n",
    "    x, y = col_list.index(col1), col_list.index(col2)\n",
    "    col_list[y], col_list[x] = col_list[x], col_list[y]\n",
    "    df = df[col_list]\n",
    "    return df"
   ]
  },
  {
   "cell_type": "code",
   "execution_count": 493,
   "metadata": {},
   "outputs": [
    {
     "data": {
      "text/html": [
       "<div>\n",
       "<style scoped>\n",
       "    .dataframe tbody tr th:only-of-type {\n",
       "        vertical-align: middle;\n",
       "    }\n",
       "\n",
       "    .dataframe tbody tr th {\n",
       "        vertical-align: top;\n",
       "    }\n",
       "\n",
       "    .dataframe thead th {\n",
       "        text-align: right;\n",
       "    }\n",
       "</style>\n",
       "<table border=\"1\" class=\"dataframe\">\n",
       "  <thead>\n",
       "    <tr style=\"text-align: right;\">\n",
       "      <th></th>\n",
       "      <th>Name</th>\n",
       "      <th>friction coeff</th>\n",
       "      <th>adhesive dist</th>\n",
       "      <th>force fraction</th>\n",
       "      <th>restitution coeff</th>\n",
       "      <th>rolling resistance</th>\n",
       "      <th>tangential stiffness</th>\n",
       "      <th>simulated AoR</th>\n",
       "      <th>predicted AoR</th>\n",
       "    </tr>\n",
       "  </thead>\n",
       "  <tbody>\n",
       "    <tr>\n",
       "      <th>0</th>\n",
       "      <td>sim2</td>\n",
       "      <td>0.44</td>\n",
       "      <td>0.0011</td>\n",
       "      <td>0.22</td>\n",
       "      <td>0.22</td>\n",
       "      <td>0.32</td>\n",
       "      <td>0.52</td>\n",
       "      <td>42.957606</td>\n",
       "      <td>NaN</td>\n",
       "    </tr>\n",
       "    <tr>\n",
       "      <th>1</th>\n",
       "      <td>sim4</td>\n",
       "      <td>0.35</td>\n",
       "      <td>0.0007</td>\n",
       "      <td>0.40</td>\n",
       "      <td>0.17</td>\n",
       "      <td>0.32</td>\n",
       "      <td>0.75</td>\n",
       "      <td>43.763328</td>\n",
       "      <td>NaN</td>\n",
       "    </tr>\n",
       "    <tr>\n",
       "      <th>2</th>\n",
       "      <td>sim5</td>\n",
       "      <td>0.20</td>\n",
       "      <td>0.0005</td>\n",
       "      <td>0.10</td>\n",
       "      <td>0.10</td>\n",
       "      <td>0.20</td>\n",
       "      <td>0.20</td>\n",
       "      <td>28.576794</td>\n",
       "      <td>NaN</td>\n",
       "    </tr>\n",
       "    <tr>\n",
       "      <th>3</th>\n",
       "      <td>sim7</td>\n",
       "      <td>0.80</td>\n",
       "      <td>0.0005</td>\n",
       "      <td>0.34</td>\n",
       "      <td>0.22</td>\n",
       "      <td>0.56</td>\n",
       "      <td>0.20</td>\n",
       "      <td>46.152702</td>\n",
       "      <td>NaN</td>\n",
       "    </tr>\n",
       "    <tr>\n",
       "      <th>4</th>\n",
       "      <td>sim8</td>\n",
       "      <td>0.38</td>\n",
       "      <td>0.0013</td>\n",
       "      <td>0.31</td>\n",
       "      <td>0.12</td>\n",
       "      <td>0.51</td>\n",
       "      <td>0.60</td>\n",
       "      <td>51.285944</td>\n",
       "      <td>NaN</td>\n",
       "    </tr>\n",
       "  </tbody>\n",
       "</table>\n",
       "</div>"
      ],
      "text/plain": [
       "   Name  friction coeff  adhesive dist  force fraction  restitution coeff  \\\n",
       "0  sim2            0.44         0.0011            0.22               0.22   \n",
       "1  sim4            0.35         0.0007            0.40               0.17   \n",
       "2  sim5            0.20         0.0005            0.10               0.10   \n",
       "3  sim7            0.80         0.0005            0.34               0.22   \n",
       "4  sim8            0.38         0.0013            0.31               0.12   \n",
       "\n",
       "   rolling resistance  tangential stiffness  simulated AoR  predicted AoR  \n",
       "0                0.32                  0.52      42.957606            NaN  \n",
       "1                0.32                  0.75      43.763328            NaN  \n",
       "2                0.20                  0.20      28.576794            NaN  \n",
       "3                0.56                  0.20      46.152702            NaN  \n",
       "4                0.51                  0.60      51.285944            NaN  "
      ]
     },
     "execution_count": 493,
     "metadata": {},
     "output_type": "execute_result"
    }
   ],
   "source": [
    "df = pd.read_excel(\"data\\DEM Simulations Data.xlsx\", usecols=\"A:I\")\n",
    "df.head()\n"
   ]
  },
  {
   "cell_type": "code",
   "execution_count": 494,
   "metadata": {},
   "outputs": [
    {
     "data": {
      "text/html": [
       "<div>\n",
       "<style scoped>\n",
       "    .dataframe tbody tr th:only-of-type {\n",
       "        vertical-align: middle;\n",
       "    }\n",
       "\n",
       "    .dataframe tbody tr th {\n",
       "        vertical-align: top;\n",
       "    }\n",
       "\n",
       "    .dataframe thead th {\n",
       "        text-align: right;\n",
       "    }\n",
       "</style>\n",
       "<table border=\"1\" class=\"dataframe\">\n",
       "  <thead>\n",
       "    <tr style=\"text-align: right;\">\n",
       "      <th></th>\n",
       "      <th>Name</th>\n",
       "      <th>friction coeff</th>\n",
       "      <th>adhesive dist</th>\n",
       "      <th>force fraction</th>\n",
       "      <th>restitution coeff</th>\n",
       "      <th>rolling resistance</th>\n",
       "      <th>tangential stiffness</th>\n",
       "      <th>simulated AoR</th>\n",
       "      <th>predicted AoR</th>\n",
       "    </tr>\n",
       "  </thead>\n",
       "  <tbody>\n",
       "    <tr>\n",
       "      <th>0</th>\n",
       "      <td>sim2</td>\n",
       "      <td>0.440000</td>\n",
       "      <td>0.001100</td>\n",
       "      <td>0.220000</td>\n",
       "      <td>0.220000</td>\n",
       "      <td>0.320000</td>\n",
       "      <td>0.520000</td>\n",
       "      <td>42.957606</td>\n",
       "      <td>NaN</td>\n",
       "    </tr>\n",
       "    <tr>\n",
       "      <th>1</th>\n",
       "      <td>sim4</td>\n",
       "      <td>0.350000</td>\n",
       "      <td>0.000700</td>\n",
       "      <td>0.400000</td>\n",
       "      <td>0.170000</td>\n",
       "      <td>0.320000</td>\n",
       "      <td>0.750000</td>\n",
       "      <td>43.763328</td>\n",
       "      <td>NaN</td>\n",
       "    </tr>\n",
       "    <tr>\n",
       "      <th>5</th>\n",
       "      <td>sim9</td>\n",
       "      <td>0.500000</td>\n",
       "      <td>0.001000</td>\n",
       "      <td>0.200000</td>\n",
       "      <td>0.200000</td>\n",
       "      <td>0.400000</td>\n",
       "      <td>0.700000</td>\n",
       "      <td>48.167879</td>\n",
       "      <td>NaN</td>\n",
       "    </tr>\n",
       "    <tr>\n",
       "      <th>6</th>\n",
       "      <td>sim10</td>\n",
       "      <td>0.300000</td>\n",
       "      <td>0.001200</td>\n",
       "      <td>0.320000</td>\n",
       "      <td>0.290000</td>\n",
       "      <td>0.300000</td>\n",
       "      <td>0.400000</td>\n",
       "      <td>46.872942</td>\n",
       "      <td>NaN</td>\n",
       "    </tr>\n",
       "    <tr>\n",
       "      <th>16</th>\n",
       "      <td>sim21</td>\n",
       "      <td>0.260416</td>\n",
       "      <td>0.001039</td>\n",
       "      <td>0.315308</td>\n",
       "      <td>0.367341</td>\n",
       "      <td>0.550838</td>\n",
       "      <td>0.218895</td>\n",
       "      <td>43.175327</td>\n",
       "      <td>NaN</td>\n",
       "    </tr>\n",
       "  </tbody>\n",
       "</table>\n",
       "</div>"
      ],
      "text/plain": [
       "     Name  friction coeff  adhesive dist  force fraction  restitution coeff  \\\n",
       "0    sim2        0.440000       0.001100        0.220000           0.220000   \n",
       "1    sim4        0.350000       0.000700        0.400000           0.170000   \n",
       "5    sim9        0.500000       0.001000        0.200000           0.200000   \n",
       "6   sim10        0.300000       0.001200        0.320000           0.290000   \n",
       "16  sim21        0.260416       0.001039        0.315308           0.367341   \n",
       "\n",
       "    rolling resistance  tangential stiffness  simulated AoR  predicted AoR  \n",
       "0             0.320000              0.520000      42.957606            NaN  \n",
       "1             0.320000              0.750000      43.763328            NaN  \n",
       "5             0.400000              0.700000      48.167879            NaN  \n",
       "6             0.300000              0.400000      46.872942            NaN  \n",
       "16            0.550838              0.218895      43.175327            NaN  "
      ]
     },
     "execution_count": 494,
     "metadata": {},
     "output_type": "execute_result"
    }
   ],
   "source": [
    "drop_indexes = [2, 3, 4, 7, 8, 9, 10, 11, 12, 13, 14, 15, 18]\n",
    "df_drop = df.copy()\n",
    "df_drop.drop(drop_indexes, axis=0, inplace=True)\n",
    "df_drop.head()"
   ]
  },
  {
   "cell_type": "code",
   "execution_count": 495,
   "metadata": {},
   "outputs": [
    {
     "name": "stdout",
     "output_type": "stream",
     "text": [
      "(21, 6) (8, 6)\n"
     ]
    }
   ],
   "source": [
    "set_orig = df.to_numpy()\n",
    "set_drop = df_drop.to_numpy()\n",
    "\n",
    "X_orig = set_orig[:,1:7]\n",
    "y_orig = set_orig[:,7]\n",
    "\n",
    "X_drop = set_drop[:,1:7]\n",
    "y_drop = set_drop[:,7]\n",
    "print(X_orig.shape, X_drop.shape)"
   ]
  },
  {
   "cell_type": "code",
   "execution_count": 496,
   "metadata": {},
   "outputs": [],
   "source": [
    "def list_files_in_dir(path):\n",
    "    file_list = []\n",
    "    for fname in os.listdir(path):\n",
    "        newpath = os.path.join(path, fname)\n",
    "        if os.path.isdir(newpath):\n",
    "            # skip directories\n",
    "            continue\n",
    "        file_list.append(fname)\n",
    "    file_list.sort(key=lambda f: int(''.join(filter(str.isdigit, f))))\n",
    "    return file_list"
   ]
  },
  {
   "cell_type": "code",
   "execution_count": 497,
   "metadata": {},
   "outputs": [],
   "source": [
    "# def evaluate_model(y, y_hat):\n",
    "#     pred_r2 = r2_score(y, y_hat) \n",
    "#     pred_MAE = mean_absolute_error(y, y_hat) \n",
    "#     pred_MSE = mean_squared_error(y, y_hat) \n",
    "#     return [pred_r2, pred_MAE, pred_MSE]"
   ]
  },
  {
   "cell_type": "code",
   "execution_count": 498,
   "metadata": {},
   "outputs": [],
   "source": [
    "def evaluate_model(input_model, X_test, y_test):\n",
    "    y_hat = input_model.predict(X_test)\n",
    "    curr_r2 = r2_score(y_test, y_hat) \n",
    "    curr_MAE = mean_absolute_error(y_test, y_hat) \n",
    "    curr_MSE = mean_squared_error(y_test, y_hat) \n",
    "    return curr_r2, curr_MAE, curr_MSE\n",
    "    print(f\"{algo}\\t{curr_r2=:.2f}\\t{curr_MAE=:.2f}\\t{curr_MSE=:.2f}\")\n",
    "    X_train.append(X_tr)\n",
    "    model_scores.append([algo, curr_r2, curr_MAE, curr_MSE])"
   ]
  },
  {
   "cell_type": "code",
   "execution_count": 537,
   "metadata": {},
   "outputs": [],
   "source": [
    "path_to_dir = \"C:/Users/adamk/Documents/augmentation/models/\"\n",
    "# path_to_dir = \"models/\"\n",
    "model_list = list_files_in_dir(path_to_dir)"
   ]
  },
  {
   "cell_type": "code",
   "execution_count": 538,
   "metadata": {},
   "outputs": [
    {
     "name": "stdout",
     "output_type": "stream",
     "text": [
      "(8, 6) (8,)\n"
     ]
    }
   ],
   "source": [
    "print(X_drop.shape, y_drop.shape)"
   ]
  },
  {
   "cell_type": "code",
   "execution_count": 539,
   "metadata": {},
   "outputs": [],
   "source": [
    "errors = []\n",
    "errors_drop = []\n",
    "predicted_aor = []\n",
    "predicted_aor_drop = []\n",
    "evaluated_models = []\n",
    "for iter, file in enumerate(model_list):\n",
    "    predicted_aor = []\n",
    "    errors = []\n",
    "    loaded_model = pickle.load(open(f'{path_to_dir}{file}', 'rb'))\n",
    "\n",
    "    curr_r2, curr_MAE, curr_MSE = evaluate_model(loaded_model, X_orig, y_orig)\n",
    "        # loaded_model = pickle.load(open(f\"models/{file}\", 'rb'))\n",
    "        # loaded_model = pickle.load(open(f\"rf_regressor.pkl\", 'rb'))\n",
    "        # y_hat = loaded_model.predict(X_orig)\n",
    "        # print(i)\n",
    "    # print(f'Started {file}: {iter}')\n",
    "\n",
    "    # if res[0] > 0.5:\n",
    "    #     print(f'Started {file}: {iter}')\n",
    "    #     print(res)\n",
    "    evaluated_models.append([file, curr_r2, curr_MAE, curr_MSE])\n",
    "\n",
    "# print(evaluated_models)\n"
   ]
  },
  {
   "cell_type": "code",
   "execution_count": 540,
   "metadata": {},
   "outputs": [],
   "source": [
    "# scores_array = np.zeros([len(evaluated_models),8])"
   ]
  },
  {
   "cell_type": "code",
   "execution_count": 541,
   "metadata": {},
   "outputs": [
    {
     "data": {
      "text/plain": [
       "[['enet00_orig.pkl',\n",
       "  0.42266043267785003,\n",
       "  3.3919728575903836,\n",
       "  17.24678124235925],\n",
       " ['gb00_orig.pkl', 0.6331946092336369, 2.8050441677885862, 10.957524290961336],\n",
       " ['lasso00_orig.pkl',\n",
       "  0.40697983010832095,\n",
       "  3.4568763023333418,\n",
       "  17.715205610914854],\n",
       " ['lr00_orig.pkl', 0.6216270802363675, 2.7385695023316963, 11.303079408646923],\n",
       " ['rf00_orig.pkl', 0.46312206333885664, 3.389696086931983, 16.03807681221557],\n",
       " ['ridge00_orig.pkl',\n",
       "  0.40818852894678914,\n",
       "  3.44117418738787,\n",
       "  17.679098325644865],\n",
       " ['enet00_aug7.pkl',\n",
       "  0.46152263740819255,\n",
       "  3.1490528906988104,\n",
       "  16.085856231297253],\n",
       " ['gb00_aug7.pkl', 0.17752802885366348, 4.176205512566482, 24.569586023917502],\n",
       " ['lasso00_aug7.pkl', 0.4449450043167117, 3.1593094956869536, 16.581077462662],\n",
       " ['lr00_aug7.pkl', 0.5668731950575321, 2.930563256934531, 12.938734287159182],\n",
       " ['rf00_aug7.pkl', 0.6788382785196965, 2.4103834013608387, 9.59401757181072],\n",
       " ['ridge00_aug7.pkl',\n",
       "  0.4946326677870153,\n",
       "  2.9231173840334033,\n",
       "  15.096765091190465],\n",
       " ['enet_0.1_42_aug9j.pkl',\n",
       "  0.43233244063354426,\n",
       "  3.2753487501888996,\n",
       "  16.957850750101585],\n",
       " ['gb_0.1_42_aug9j.pkl',\n",
       "  0.32635982388213547,\n",
       "  3.5399745617933727,\n",
       "  20.123555375663983],\n",
       " ['lasso_0.1_42_aug9j.pkl',\n",
       "  0.4262820799512125,\n",
       "  3.2863745978516414,\n",
       "  17.138592298112137],\n",
       " ['lr_0.1_42_aug9j.pkl',\n",
       "  0.6213191308150148,\n",
       "  2.7577746542628336,\n",
       "  11.31227873709139],\n",
       " ['rf_0.1_42_aug9j.pkl',\n",
       "  0.7407456454792658,\n",
       "  2.163227006150809,\n",
       "  7.744667768549471],\n",
       " ['ridge_0.1_42_aug9j.pkl',\n",
       "  0.5954528297044273,\n",
       "  2.6228808528827363,\n",
       "  12.08497900233126],\n",
       " ['enet_0.2_42_aug9j.pkl',\n",
       "  0.43208637552216633,\n",
       "  3.278791987291702,\n",
       "  16.965201417520753],\n",
       " ['gb_0.2_42_aug9j.pkl',\n",
       "  0.389325004563008,\n",
       "  3.3735086208812146,\n",
       "  18.24260565637567],\n",
       " ['lasso_0.2_42_aug9j.pkl',\n",
       "  0.4261405119709162,\n",
       "  3.290631426020211,\n",
       "  17.142821337875368],\n",
       " ['lr_0.2_42_aug9j.pkl',\n",
       "  0.6232228431328444,\n",
       "  2.754472064897103,\n",
       "  11.255409414854775],\n",
       " ['rf_0.2_42_aug9j.pkl',\n",
       "  0.7395891430280204,\n",
       "  2.1399446075793795,\n",
       "  7.779215798706831],\n",
       " ['ridge_0.2_42_aug9j.pkl',\n",
       "  0.596756852166267,\n",
       "  2.6168992328515737,\n",
       "  12.04602412827198],\n",
       " ['enet_0.3_42_aug9j.pkl',\n",
       "  0.4301290675971904,\n",
       "  3.2791158804448792,\n",
       "  17.02367179356404],\n",
       " ['gb_0.3_42_aug9j.pkl',\n",
       "  0.4558184373355727,\n",
       "  3.3036170491077312,\n",
       "  16.256256973570004],\n",
       " ['lasso_0.3_42_aug9j.pkl',\n",
       "  0.4241923032456447,\n",
       "  3.290414460498699,\n",
       "  17.201019894844293],\n",
       " ['lr_0.3_42_aug9j.pkl',\n",
       "  0.6214064155527431,\n",
       "  2.7564837800289155,\n",
       "  11.309671292768147],\n",
       " ['rf_0.3_42_aug9j.pkl',\n",
       "  0.7323161232365273,\n",
       "  2.189769327103189,\n",
       "  7.996481665131052],\n",
       " ['ridge_0.3_42_aug9j.pkl',\n",
       "  0.5896061631764159,\n",
       "  2.6309247681677657,\n",
       "  12.259635624383582],\n",
       " ['lr_0.05_42_aug9j.pkl',\n",
       "  0.5649690131294955,\n",
       "  2.9206035326961337,\n",
       "  12.99561763799347],\n",
       " ['rf_0.05_42_aug9j.pkl',\n",
       "  0.7943018090749858,\n",
       "  1.9717046006446728,\n",
       "  6.144792253348576],\n",
       " ['enet_0.1_1234_aug9j.pkl',\n",
       "  0.43233244063354426,\n",
       "  3.2753487501888996,\n",
       "  16.957850750101585],\n",
       " ['gb_0.1_1234_aug9j.pkl',\n",
       "  0.32635982388213547,\n",
       "  3.5399745617933727,\n",
       "  20.123555375663983],\n",
       " ['lasso_0.1_1234_aug9j.pkl',\n",
       "  0.4262820799512125,\n",
       "  3.2863745978516414,\n",
       "  17.138592298112137],\n",
       " ['lr_0.1_1234_aug9j.pkl',\n",
       "  0.6213191308150148,\n",
       "  2.7577746542628336,\n",
       "  11.31227873709139],\n",
       " ['rf_0.1_1234_aug9j.pkl',\n",
       "  0.7407456454792658,\n",
       "  2.163227006150809,\n",
       "  7.744667768549471],\n",
       " ['ridge_0.1_1234_aug9j.pkl',\n",
       "  0.5954528297044273,\n",
       "  2.6228808528827363,\n",
       "  12.08497900233126],\n",
       " ['enet_0.2_1234_aug9j.pkl',\n",
       "  0.43208637552216633,\n",
       "  3.278791987291702,\n",
       "  16.965201417520753],\n",
       " ['gb_0.2_1234_aug9j.pkl',\n",
       "  0.389325004563008,\n",
       "  3.3735086208812146,\n",
       "  18.24260565637567],\n",
       " ['lasso_0.2_1234_aug9j.pkl',\n",
       "  0.4261405119709162,\n",
       "  3.290631426020211,\n",
       "  17.142821337875368],\n",
       " ['lr_0.2_1234_aug9j.pkl',\n",
       "  0.6232228431328444,\n",
       "  2.754472064897103,\n",
       "  11.255409414854775],\n",
       " ['rf_0.2_1234_aug9j.pkl',\n",
       "  0.7395891430280204,\n",
       "  2.1399446075793795,\n",
       "  7.779215798706831],\n",
       " ['ridge_0.2_1234_aug9j.pkl',\n",
       "  0.596756852166267,\n",
       "  2.6168992328515737,\n",
       "  12.04602412827198],\n",
       " ['enet_0.3_1234_aug9j.pkl',\n",
       "  0.4301290675971904,\n",
       "  3.2791158804448792,\n",
       "  17.02367179356404],\n",
       " ['gb_0.3_1234_aug9j.pkl',\n",
       "  0.4558184373355727,\n",
       "  3.3036170491077312,\n",
       "  16.256256973570004],\n",
       " ['lasso_0.3_1234_aug9j.pkl',\n",
       "  0.4241923032456447,\n",
       "  3.290414460498699,\n",
       "  17.201019894844293],\n",
       " ['lr_0.3_1234_aug9j.pkl',\n",
       "  0.6214064155527431,\n",
       "  2.7564837800289155,\n",
       "  11.309671292768147],\n",
       " ['rf_0.3_1234_aug9j.pkl',\n",
       "  0.7323161232365273,\n",
       "  2.189769327103189,\n",
       "  7.996481665131052],\n",
       " ['ridge_0.3_1234_aug9j.pkl',\n",
       "  0.5896061631764159,\n",
       "  2.6309247681677657,\n",
       "  12.259635624383582]]"
      ]
     },
     "execution_count": 541,
     "metadata": {},
     "output_type": "execute_result"
    }
   ],
   "source": [
    "evaluated_models"
   ]
  },
  {
   "cell_type": "code",
   "execution_count": 542,
   "metadata": {},
   "outputs": [],
   "source": [
    "scores_array = np.array(evaluated_models)"
   ]
  },
  {
   "cell_type": "code",
   "execution_count": null,
   "metadata": {},
   "outputs": [],
   "source": []
  },
  {
   "cell_type": "code",
   "execution_count": 543,
   "metadata": {},
   "outputs": [
    {
     "name": "stdout",
     "output_type": "stream",
     "text": [
      "['enet00_orig.pkl' 'gb00_orig.pkl' 'lasso00_orig.pkl' 'lr00_orig.pkl'\n",
      " 'rf00_orig.pkl']\n"
     ]
    }
   ],
   "source": [
    "print(scores_array[0:5,0])"
   ]
  },
  {
   "cell_type": "code",
   "execution_count": 545,
   "metadata": {},
   "outputs": [
    {
     "name": "stdout",
     "output_type": "stream",
     "text": [
      "['enet', '0.1', '42', 9]\n",
      "['gb', '0.1', '42', 9]\n",
      "['lasso', '0.1', '42', 9]\n",
      "['lr', '0.1', '42', 9]\n",
      "['rf', '0.1', '42', 9]\n",
      "['ridge', '0.1', '42', 9]\n",
      "['enet', '0.2', '42', 9]\n",
      "['gb', '0.2', '42', 9]\n",
      "['lasso', '0.2', '42', 9]\n",
      "['lr', '0.2', '42', 9]\n",
      "['rf', '0.2', '42', 9]\n",
      "['ridge', '0.2', '42', 9]\n",
      "['enet', '0.3', '42', 9]\n",
      "['gb', '0.3', '42', 9]\n",
      "['lasso', '0.3', '42', 9]\n",
      "['lr', '0.3', '42', 9]\n",
      "['rf', '0.3', '42', 9]\n",
      "['ridge', '0.3', '42', 9]\n",
      "['lr', '0.05', '42', 9]\n",
      "['rf', '0.05', '42', 9]\n",
      "['enet', '0.1', '1234', 9]\n",
      "['gb', '0.1', '1234', 9]\n",
      "['lasso', '0.1', '1234', 9]\n",
      "['lr', '0.1', '1234', 9]\n",
      "['rf', '0.1', '1234', 9]\n",
      "['ridge', '0.1', '1234', 9]\n",
      "['enet', '0.2', '1234', 9]\n",
      "['gb', '0.2', '1234', 9]\n",
      "['lasso', '0.2', '1234', 9]\n",
      "['lr', '0.2', '1234', 9]\n",
      "['rf', '0.2', '1234', 9]\n",
      "['ridge', '0.2', '1234', 9]\n",
      "['enet', '0.3', '1234', 9]\n",
      "['gb', '0.3', '1234', 9]\n",
      "['lasso', '0.3', '1234', 9]\n",
      "['lr', '0.3', '1234', 9]\n",
      "['rf', '0.3', '1234', 9]\n",
      "['ridge', '0.3', '1234', 9]\n"
     ]
    }
   ],
   "source": [
    "import re\n",
    "scores_array2 = []\n",
    "\n",
    "for i, contents in enumerate(scores_array):\n",
    "    splitted = contents[0].split('_')\n",
    "    splitted[0] = ''.join([i for i in splitted[0] if not i.isdigit()])\n",
    "    try:    \n",
    "        splitted[3] = int(''.join(filter(str.isdigit, splitted[3])))\n",
    "    except:\n",
    "        pass\n",
    "    if len(splitted)==4:\n",
    "    # if contents\n",
    "        print(splitted)\n",
    "    scores_array2.append(splitted)\n",
    "\n",
    "# evaluated_models.append(scores_array2)\n"
   ]
  },
  {
   "cell_type": "code",
   "execution_count": 546,
   "metadata": {},
   "outputs": [],
   "source": [
    "length = max(map(len, scores_array2))\n",
    "y=np.array([xi+[None]*(length-len(xi)) for xi in scores_array2])\n",
    "\n"
   ]
  },
  {
   "cell_type": "code",
   "execution_count": 547,
   "metadata": {},
   "outputs": [
    {
     "data": {
      "text/plain": [
       "array([['enet', 'orig.pkl', None, None],\n",
       "       ['gb', 'orig.pkl', None, None],\n",
       "       ['lasso', 'orig.pkl', None, None],\n",
       "       ['lr', 'orig.pkl', None, None],\n",
       "       ['rf', 'orig.pkl', None, None],\n",
       "       ['ridge', 'orig.pkl', None, None],\n",
       "       ['enet', 'aug7.pkl', None, None],\n",
       "       ['gb', 'aug7.pkl', None, None],\n",
       "       ['lasso', 'aug7.pkl', None, None],\n",
       "       ['lr', 'aug7.pkl', None, None],\n",
       "       ['rf', 'aug7.pkl', None, None],\n",
       "       ['ridge', 'aug7.pkl', None, None],\n",
       "       ['enet', '0.1', '42', 9],\n",
       "       ['gb', '0.1', '42', 9],\n",
       "       ['lasso', '0.1', '42', 9],\n",
       "       ['lr', '0.1', '42', 9],\n",
       "       ['rf', '0.1', '42', 9],\n",
       "       ['ridge', '0.1', '42', 9],\n",
       "       ['enet', '0.2', '42', 9],\n",
       "       ['gb', '0.2', '42', 9],\n",
       "       ['lasso', '0.2', '42', 9],\n",
       "       ['lr', '0.2', '42', 9],\n",
       "       ['rf', '0.2', '42', 9],\n",
       "       ['ridge', '0.2', '42', 9],\n",
       "       ['enet', '0.3', '42', 9],\n",
       "       ['gb', '0.3', '42', 9],\n",
       "       ['lasso', '0.3', '42', 9],\n",
       "       ['lr', '0.3', '42', 9],\n",
       "       ['rf', '0.3', '42', 9],\n",
       "       ['ridge', '0.3', '42', 9],\n",
       "       ['lr', '0.05', '42', 9],\n",
       "       ['rf', '0.05', '42', 9],\n",
       "       ['enet', '0.1', '1234', 9],\n",
       "       ['gb', '0.1', '1234', 9],\n",
       "       ['lasso', '0.1', '1234', 9],\n",
       "       ['lr', '0.1', '1234', 9],\n",
       "       ['rf', '0.1', '1234', 9],\n",
       "       ['ridge', '0.1', '1234', 9],\n",
       "       ['enet', '0.2', '1234', 9],\n",
       "       ['gb', '0.2', '1234', 9],\n",
       "       ['lasso', '0.2', '1234', 9],\n",
       "       ['lr', '0.2', '1234', 9],\n",
       "       ['rf', '0.2', '1234', 9],\n",
       "       ['ridge', '0.2', '1234', 9],\n",
       "       ['enet', '0.3', '1234', 9],\n",
       "       ['gb', '0.3', '1234', 9],\n",
       "       ['lasso', '0.3', '1234', 9],\n",
       "       ['lr', '0.3', '1234', 9],\n",
       "       ['rf', '0.3', '1234', 9],\n",
       "       ['ridge', '0.3', '1234', 9]], dtype=object)"
      ]
     },
     "execution_count": 547,
     "metadata": {},
     "output_type": "execute_result"
    }
   ],
   "source": [
    "y"
   ]
  },
  {
   "cell_type": "code",
   "execution_count": 549,
   "metadata": {},
   "outputs": [],
   "source": [
    "import pandas as pd\n",
    "columns = [\"Filename\", \"R2\", \"MAE\", \"MSE\", \"model\", \"split_size\", \"rand\", \"aug\"]\n",
    "data=np.hstack((scores_array,y))\n",
    "plotdata = pd.DataFrame(data,columns=columns)"
   ]
  },
  {
   "cell_type": "code",
   "execution_count": 551,
   "metadata": {},
   "outputs": [],
   "source": [
    "# plotdata['R2'] = plotdata['R2'].astype(float)\n",
    "# plotdata['MAE'] = plotdata['MAE'].astype(float)\n",
    "# plotdata['MSE'] = plotdata['MSE'].astype(float)\n",
    "# plotdata['aug'] = plotdata['aug'].astype(int)"
   ]
  },
  {
   "cell_type": "code",
   "execution_count": 588,
   "metadata": {},
   "outputs": [
    {
     "data": {
      "text/html": [
       "<div>\n",
       "<style scoped>\n",
       "    .dataframe tbody tr th:only-of-type {\n",
       "        vertical-align: middle;\n",
       "    }\n",
       "\n",
       "    .dataframe tbody tr th {\n",
       "        vertical-align: top;\n",
       "    }\n",
       "\n",
       "    .dataframe thead th {\n",
       "        text-align: right;\n",
       "    }\n",
       "</style>\n",
       "<table border=\"1\" class=\"dataframe\">\n",
       "  <thead>\n",
       "    <tr style=\"text-align: right;\">\n",
       "      <th></th>\n",
       "      <th>Filename</th>\n",
       "      <th>R2</th>\n",
       "      <th>MAE</th>\n",
       "      <th>MSE</th>\n",
       "      <th>model</th>\n",
       "      <th>split_size</th>\n",
       "      <th>rand</th>\n",
       "      <th>aug</th>\n",
       "    </tr>\n",
       "  </thead>\n",
       "  <tbody>\n",
       "    <tr>\n",
       "      <th>6</th>\n",
       "      <td>enet00_aug7.pkl</td>\n",
       "      <td>0.461523</td>\n",
       "      <td>3.149053</td>\n",
       "      <td>16.085856</td>\n",
       "      <td>enet</td>\n",
       "      <td>aug7.pkl</td>\n",
       "      <td>None</td>\n",
       "      <td>None</td>\n",
       "    </tr>\n",
       "    <tr>\n",
       "      <th>7</th>\n",
       "      <td>gb00_aug7.pkl</td>\n",
       "      <td>0.177528</td>\n",
       "      <td>4.176206</td>\n",
       "      <td>24.569586</td>\n",
       "      <td>gb</td>\n",
       "      <td>aug7.pkl</td>\n",
       "      <td>None</td>\n",
       "      <td>None</td>\n",
       "    </tr>\n",
       "    <tr>\n",
       "      <th>8</th>\n",
       "      <td>lasso00_aug7.pkl</td>\n",
       "      <td>0.444945</td>\n",
       "      <td>3.159309</td>\n",
       "      <td>16.581077</td>\n",
       "      <td>lasso</td>\n",
       "      <td>aug7.pkl</td>\n",
       "      <td>None</td>\n",
       "      <td>None</td>\n",
       "    </tr>\n",
       "    <tr>\n",
       "      <th>9</th>\n",
       "      <td>lr00_aug7.pkl</td>\n",
       "      <td>0.566873</td>\n",
       "      <td>2.930563</td>\n",
       "      <td>12.938734</td>\n",
       "      <td>lr</td>\n",
       "      <td>aug7.pkl</td>\n",
       "      <td>None</td>\n",
       "      <td>None</td>\n",
       "    </tr>\n",
       "    <tr>\n",
       "      <th>10</th>\n",
       "      <td>rf00_aug7.pkl</td>\n",
       "      <td>0.678838</td>\n",
       "      <td>2.410383</td>\n",
       "      <td>9.594018</td>\n",
       "      <td>rf</td>\n",
       "      <td>aug7.pkl</td>\n",
       "      <td>None</td>\n",
       "      <td>None</td>\n",
       "    </tr>\n",
       "  </tbody>\n",
       "</table>\n",
       "</div>"
      ],
      "text/plain": [
       "            Filename        R2       MAE        MSE  model split_size  rand  \\\n",
       "6    enet00_aug7.pkl  0.461523  3.149053  16.085856   enet   aug7.pkl  None   \n",
       "7      gb00_aug7.pkl  0.177528  4.176206  24.569586     gb   aug7.pkl  None   \n",
       "8   lasso00_aug7.pkl  0.444945  3.159309  16.581077  lasso   aug7.pkl  None   \n",
       "9      lr00_aug7.pkl  0.566873  2.930563  12.938734     lr   aug7.pkl  None   \n",
       "10     rf00_aug7.pkl  0.678838  2.410383   9.594018     rf   aug7.pkl  None   \n",
       "\n",
       "     aug  \n",
       "6   None  \n",
       "7   None  \n",
       "8   None  \n",
       "9   None  \n",
       "10  None  "
      ]
     },
     "execution_count": 588,
     "metadata": {},
     "output_type": "execute_result"
    }
   ],
   "source": [
    "sort_df = plotdata.loc[plotdata['split_size'] != 'orig.pkl']\n",
    "sort_df.head()"
   ]
  },
  {
   "cell_type": "code",
   "execution_count": 590,
   "metadata": {},
   "outputs": [
    {
     "data": {
      "image/png": "[encoded data removed]",
      "text/plain": [
       "<Figure size 640x480 with 1 Axes>"
      ]
     },
     "metadata": {},
     "output_type": "display_data"
    }
   ],
   "source": [
    "# gca stands for 'get current axis'\n",
    "import matplotlib.pyplot as plt\n",
    "ax = plt.gca()\n",
    "sort_df.plot(kind='bar',x='model',y='MAE', color='red', ax=ax)\n",
    "# sort_df.plot(kind='bar',x='model',y='R2',ax=ax)\n",
    "\n",
    "\n",
    "plt.show()"
   ]
  },
  {
   "cell_type": "code",
   "execution_count": 583,
   "metadata": {},
   "outputs": [
    {
     "data": {
      "text/plain": [
       "<AxesSubplot: >"
      ]
     },
     "execution_count": 583,
     "metadata": {},
     "output_type": "execute_result"
    },
    {
     "data": {
      "image/png": "[encoded data removed]",
      "text/plain": [
       "<Figure size 640x480 with 1 Axes>"
      ]
     },
     "metadata": {},
     "output_type": "display_data"
    }
   ],
   "source": [
    "sort_df.plot(kind='bar', stacked=True, color=['red', 'skyblue', 'green'])\n"
   ]
  },
  {
   "cell_type": "code",
   "execution_count": 572,
   "metadata": {},
   "outputs": [
    {
     "data": {
      "text/plain": [
       "<AxesSubplot: xlabel='model', ylabel='R2'>"
      ]
     },
     "execution_count": 572,
     "metadata": {},
     "output_type": "execute_result"
    },
    {
     "data": {
      "image/png": "[encoded data removed]",
      "text/plain": [
       "<Figure size 640x480 with 1 Axes>"
      ]
     },
     "metadata": {},
     "output_type": "display_data"
    }
   ],
   "source": [
    "import seaborn as sns\n",
    "sns.barplot(data=sort_df, x=\"model\", y=\"R2\", hue=\"model\")"
   ]
  },
  {
   "cell_type": "code",
   "execution_count": null,
   "metadata": {},
   "outputs": [],
   "source": [
    "\n"
   ]
  },
  {
   "cell_type": "code",
   "execution_count": 561,
   "metadata": {},
   "outputs": [
    {
     "data": {
      "text/plain": [
       "array(['gb00_orig.pkl', '0.6331946092336369', '2.8050441677885862',\n",
       "       '10.957524290961336'], dtype='<U32')"
      ]
     },
     "execution_count": 561,
     "metadata": {},
     "output_type": "execute_result"
    }
   ],
   "source": [
    "scores_array[1]"
   ]
  },
  {
   "cell_type": "code",
   "execution_count": 562,
   "metadata": {},
   "outputs": [
    {
     "data": {
      "image/png": "[encoded data removed]",
      "text/plain": [
       "<Figure size 640x480 with 1 Axes>"
      ]
     },
     "metadata": {},
     "output_type": "display_data"
    }
   ],
   "source": [
    "import matplotlib.pyplot as plt\n",
    "import numpy as np\n",
    "\n",
    "\n",
    "# labels = ['G1', 'G2', 'G3', 'G4', 'G5']\n",
    "labels =scores_array[0:5,0]\n",
    "\n",
    "x = np.arange(len(labels))  # the label locations\n",
    "width = 0.2  # the width of the bars\n",
    "\n",
    "fig, ax = plt.subplots()\n",
    "rects1 = ax.bar(x - width/2, scores_array[0:5,1], width, label='R2')\n",
    "rects2 = ax.bar(x + width/2, scores_array[0:5,2], width, label='MAE')\n",
    "\n",
    "# Add some text for labels, title and custom x-axis tick labels, etc.\n",
    "ax.set_ylabel('Scores')\n",
    "ax.set_title('Scores by group and gender')\n",
    "ax.set_xticks(x, labels)\n",
    "ax.legend()\n",
    "\n",
    "ax.bar_label(rects1, padding=3)\n",
    "ax.bar_label(rects2, padding=3)\n",
    "\n",
    "fig.tight_layout()\n",
    "\n",
    "plt.show()"
   ]
  },
  {
   "cell_type": "code",
   "execution_count": 563,
   "metadata": {},
   "outputs": [
    {
     "data": {
      "text/plain": [
       "(0.7407456454792658, 2.163227006150809, 7.744667768549471)"
      ]
     },
     "execution_count": 563,
     "metadata": {},
     "output_type": "execute_result"
    }
   ],
   "source": [
    "loaded_model = pickle.load(open(f'models/rf_0.1_1234_aug9j.pkl', 'rb'))\n",
    "evaluate_model(loaded_model, X_orig, y_orig)\n"
   ]
  },
  {
   "cell_type": "code",
   "execution_count": 564,
   "metadata": {},
   "outputs": [
    {
     "name": "stdout",
     "output_type": "stream",
     "text": [
      "Accuracy score via cross-validation:\n",
      "-2.788 ± 4.722\n"
     ]
    }
   ],
   "source": [
    "from sklearn.model_selection import cross_validate\n",
    "cv_results = cross_validate(loaded_model, X_orig, y_orig)\n",
    "scores = cv_results[\"test_score\"]\n",
    "print(f\"Accuracy score via cross-validation:\\n\"\n",
    "      f\"{scores.mean():.3f} ± {scores.std():.3f}\")"
   ]
  },
  {
   "cell_type": "code",
   "execution_count": 565,
   "metadata": {},
   "outputs": [
    {
     "ename": "AttributeError",
     "evalue": "'numpy.ndarray' object has no attribute '_fit_and_score'",
     "output_type": "error",
     "traceback": [
      "\u001b[1;31m---------------------------------------------------------------------------\u001b[0m",
      "\u001b[1;31mAttributeError\u001b[0m                            Traceback (most recent call last)",
      "Cell \u001b[1;32mIn [565], line 1\u001b[0m\n\u001b[1;32m----> 1\u001b[0m scores\u001b[39m.\u001b[39;49m_fit_and_score\n",
      "\u001b[1;31mAttributeError\u001b[0m: 'numpy.ndarray' object has no attribute '_fit_and_score'"
     ]
    }
   ],
   "source": [
    "scores._fit_and_score"
   ]
  },
  {
   "cell_type": "code",
   "execution_count": null,
   "metadata": {},
   "outputs": [],
   "source": [
    "df['predicted AoR'] = predicted_aor\n",
    "df['error'] = errors\n",
    "df_drop['predicted AoR'] = predicted_aor_drop\n",
    "df_drop['error'] = errors_drop\n"
   ]
  },
  {
   "cell_type": "code",
   "execution_count": null,
   "metadata": {},
   "outputs": [],
   "source": []
  },
  {
   "cell_type": "code",
   "execution_count": null,
   "metadata": {},
   "outputs": [],
   "source": [
    "y_test = np.array(df['simulated AoR'])\n",
    "y_hat = np.array(predicted_aor)\n",
    "y_test_dropped = np.array(df_drop['simulated AoR'])\n",
    "y_hat_dropped = np.array(predicted_aor_drop)\n",
    "print(y_test.shape)\n",
    "print(y_hat.shape)\n",
    "print(y_test_dropped.shape)\n",
    "print(y_hat_dropped.shape)\n"
   ]
  },
  {
   "cell_type": "code",
   "execution_count": null,
   "metadata": {},
   "outputs": [],
   "source": [
    "print(f'{len(y_hat_dropped)=}, {len(y_test_dropped)}')"
   ]
  },
  {
   "cell_type": "code",
   "execution_count": null,
   "metadata": {},
   "outputs": [],
   "source": [
    "y_test_dropped"
   ]
  },
  {
   "cell_type": "code",
   "execution_count": null,
   "metadata": {},
   "outputs": [],
   "source": [
    "for i in range(len(y_test)):\n",
    "    print(f'{y_test[i]=:.2f}, {y_test[i]=:.2f}')"
   ]
  },
  {
   "cell_type": "code",
   "execution_count": null,
   "metadata": {},
   "outputs": [],
   "source": []
  },
  {
   "cell_type": "code",
   "execution_count": null,
   "metadata": {},
   "outputs": [],
   "source": [
    "writer = pd.ExcelWriter('predicted_aor_dropped.xlsx')\n",
    "# write dataframe to excel\n",
    " \n",
    "df_drop.to_excel(writer)\n",
    " \n",
    "# save the excel\n",
    "writer.save()\n",
    "print(\"DataFrame is exported successfully to 'converted-to-excel.xlsx' Excel File.\")\n"
   ]
  }
 ],
 "metadata": {
  "kernelspec": {
   "display_name": "Python 3.10.8 ('.venvML': venv)",
   "language": "python",
   "name": "python3"
  },
  "language_info": {
   "codemirror_mode": {
    "name": "ipython",
    "version": 3
   },
   "file_extension": ".py",
   "mimetype": "text/x-python",
   "name": "python",
   "nbconvert_exporter": "python",
   "pygments_lexer": "ipython3",
   "version": "3.10.8"
  },
  "orig_nbformat": 4,
  "vscode": {
   "interpreter": {
    "hash": "1b4d48f26e52be2a67f8c021b79cc8417aaa03976caf4f06facbde19b8dc6d04"
   }
  }
 },
 "nbformat": 4,
 "nbformat_minor": 2
}
