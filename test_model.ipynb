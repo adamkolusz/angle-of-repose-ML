{
 "cells": [
  {
   "cell_type": "code",
   "execution_count": 1105,
   "metadata": {},
   "outputs": [],
   "source": [
    "import pandas as pd\n",
    "from sklearn import model_selection\n",
    "from sklearn.linear_model import LogisticRegression\n",
    "import pickle\n",
    "import os\n",
    "from sklearn.metrics import r2_score, mean_absolute_error, mean_squared_error\n",
    "import numpy as np\n",
    "import warnings\n",
    "warnings.filterwarnings('ignore') # setting ignore as a parameter"
   ]
  },
  {
   "cell_type": "code",
   "execution_count": 1106,
   "metadata": {},
   "outputs": [],
   "source": [
    "# df_drop.head()"
   ]
  },
  {
   "cell_type": "code",
   "execution_count": 1107,
   "metadata": {},
   "outputs": [],
   "source": [
    "def swap_columns(df, col1, col2):\n",
    "    col_list = list(df.columns)\n",
    "    x, y = col_list.index(col1), col_list.index(col2)\n",
    "    col_list[y], col_list[x] = col_list[x], col_list[y]\n",
    "    df = df[col_list]\n",
    "    return df"
   ]
  },
  {
   "cell_type": "code",
   "execution_count": 1108,
   "metadata": {},
   "outputs": [
    {
     "data": {
      "text/html": [
       "<div>\n",
       "<style scoped>\n",
       "    .dataframe tbody tr th:only-of-type {\n",
       "        vertical-align: middle;\n",
       "    }\n",
       "\n",
       "    .dataframe tbody tr th {\n",
       "        vertical-align: top;\n",
       "    }\n",
       "\n",
       "    .dataframe thead th {\n",
       "        text-align: right;\n",
       "    }\n",
       "</style>\n",
       "<table border=\"1\" class=\"dataframe\">\n",
       "  <thead>\n",
       "    <tr style=\"text-align: right;\">\n",
       "      <th></th>\n",
       "      <th>Name</th>\n",
       "      <th>friction coeff</th>\n",
       "      <th>adhesive dist</th>\n",
       "      <th>force fraction</th>\n",
       "      <th>restitution coeff</th>\n",
       "      <th>rolling resistance</th>\n",
       "      <th>tangential stiffness</th>\n",
       "      <th>simulated AoR</th>\n",
       "      <th>predicted AoR</th>\n",
       "    </tr>\n",
       "  </thead>\n",
       "  <tbody>\n",
       "    <tr>\n",
       "      <th>0</th>\n",
       "      <td>sim2</td>\n",
       "      <td>0.44</td>\n",
       "      <td>0.0011</td>\n",
       "      <td>0.22</td>\n",
       "      <td>0.22</td>\n",
       "      <td>0.32</td>\n",
       "      <td>0.52</td>\n",
       "      <td>42.957606</td>\n",
       "      <td>NaN</td>\n",
       "    </tr>\n",
       "    <tr>\n",
       "      <th>1</th>\n",
       "      <td>sim4</td>\n",
       "      <td>0.35</td>\n",
       "      <td>0.0007</td>\n",
       "      <td>0.40</td>\n",
       "      <td>0.17</td>\n",
       "      <td>0.32</td>\n",
       "      <td>0.75</td>\n",
       "      <td>43.763328</td>\n",
       "      <td>NaN</td>\n",
       "    </tr>\n",
       "    <tr>\n",
       "      <th>2</th>\n",
       "      <td>sim5</td>\n",
       "      <td>0.20</td>\n",
       "      <td>0.0005</td>\n",
       "      <td>0.10</td>\n",
       "      <td>0.10</td>\n",
       "      <td>0.20</td>\n",
       "      <td>0.20</td>\n",
       "      <td>28.576794</td>\n",
       "      <td>NaN</td>\n",
       "    </tr>\n",
       "    <tr>\n",
       "      <th>3</th>\n",
       "      <td>sim7</td>\n",
       "      <td>0.80</td>\n",
       "      <td>0.0005</td>\n",
       "      <td>0.34</td>\n",
       "      <td>0.22</td>\n",
       "      <td>0.56</td>\n",
       "      <td>0.20</td>\n",
       "      <td>46.152702</td>\n",
       "      <td>NaN</td>\n",
       "    </tr>\n",
       "    <tr>\n",
       "      <th>4</th>\n",
       "      <td>sim8</td>\n",
       "      <td>0.38</td>\n",
       "      <td>0.0013</td>\n",
       "      <td>0.31</td>\n",
       "      <td>0.12</td>\n",
       "      <td>0.51</td>\n",
       "      <td>0.60</td>\n",
       "      <td>51.285944</td>\n",
       "      <td>NaN</td>\n",
       "    </tr>\n",
       "  </tbody>\n",
       "</table>\n",
       "</div>"
      ],
      "text/plain": [
       "   Name  friction coeff  adhesive dist  force fraction  restitution coeff  \\\n",
       "0  sim2            0.44         0.0011            0.22               0.22   \n",
       "1  sim4            0.35         0.0007            0.40               0.17   \n",
       "2  sim5            0.20         0.0005            0.10               0.10   \n",
       "3  sim7            0.80         0.0005            0.34               0.22   \n",
       "4  sim8            0.38         0.0013            0.31               0.12   \n",
       "\n",
       "   rolling resistance  tangential stiffness  simulated AoR  predicted AoR  \n",
       "0                0.32                  0.52      42.957606            NaN  \n",
       "1                0.32                  0.75      43.763328            NaN  \n",
       "2                0.20                  0.20      28.576794            NaN  \n",
       "3                0.56                  0.20      46.152702            NaN  \n",
       "4                0.51                  0.60      51.285944            NaN  "
      ]
     },
     "execution_count": 1108,
     "metadata": {},
     "output_type": "execute_result"
    }
   ],
   "source": [
    "df = pd.read_excel(\"data\\DEM Simulations Data.xlsx\", usecols=\"A:I\")\n",
    "df.head()\n"
   ]
  },
  {
   "cell_type": "code",
   "execution_count": 1109,
   "metadata": {},
   "outputs": [
    {
     "data": {
      "text/html": [
       "<div>\n",
       "<style scoped>\n",
       "    .dataframe tbody tr th:only-of-type {\n",
       "        vertical-align: middle;\n",
       "    }\n",
       "\n",
       "    .dataframe tbody tr th {\n",
       "        vertical-align: top;\n",
       "    }\n",
       "\n",
       "    .dataframe thead th {\n",
       "        text-align: right;\n",
       "    }\n",
       "</style>\n",
       "<table border=\"1\" class=\"dataframe\">\n",
       "  <thead>\n",
       "    <tr style=\"text-align: right;\">\n",
       "      <th></th>\n",
       "      <th>Name</th>\n",
       "      <th>friction coeff</th>\n",
       "      <th>adhesive dist</th>\n",
       "      <th>force fraction</th>\n",
       "      <th>restitution coeff</th>\n",
       "      <th>rolling resistance</th>\n",
       "      <th>tangential stiffness</th>\n",
       "      <th>simulated AoR</th>\n",
       "      <th>predicted AoR</th>\n",
       "    </tr>\n",
       "  </thead>\n",
       "  <tbody>\n",
       "    <tr>\n",
       "      <th>0</th>\n",
       "      <td>sim2</td>\n",
       "      <td>0.440000</td>\n",
       "      <td>0.001100</td>\n",
       "      <td>0.220000</td>\n",
       "      <td>0.220000</td>\n",
       "      <td>0.320000</td>\n",
       "      <td>0.520000</td>\n",
       "      <td>42.957606</td>\n",
       "      <td>NaN</td>\n",
       "    </tr>\n",
       "    <tr>\n",
       "      <th>1</th>\n",
       "      <td>sim4</td>\n",
       "      <td>0.350000</td>\n",
       "      <td>0.000700</td>\n",
       "      <td>0.400000</td>\n",
       "      <td>0.170000</td>\n",
       "      <td>0.320000</td>\n",
       "      <td>0.750000</td>\n",
       "      <td>43.763328</td>\n",
       "      <td>NaN</td>\n",
       "    </tr>\n",
       "    <tr>\n",
       "      <th>5</th>\n",
       "      <td>sim9</td>\n",
       "      <td>0.500000</td>\n",
       "      <td>0.001000</td>\n",
       "      <td>0.200000</td>\n",
       "      <td>0.200000</td>\n",
       "      <td>0.400000</td>\n",
       "      <td>0.700000</td>\n",
       "      <td>48.167879</td>\n",
       "      <td>NaN</td>\n",
       "    </tr>\n",
       "    <tr>\n",
       "      <th>6</th>\n",
       "      <td>sim10</td>\n",
       "      <td>0.300000</td>\n",
       "      <td>0.001200</td>\n",
       "      <td>0.320000</td>\n",
       "      <td>0.290000</td>\n",
       "      <td>0.300000</td>\n",
       "      <td>0.400000</td>\n",
       "      <td>46.872942</td>\n",
       "      <td>NaN</td>\n",
       "    </tr>\n",
       "    <tr>\n",
       "      <th>16</th>\n",
       "      <td>sim21</td>\n",
       "      <td>0.260416</td>\n",
       "      <td>0.001039</td>\n",
       "      <td>0.315308</td>\n",
       "      <td>0.367341</td>\n",
       "      <td>0.550838</td>\n",
       "      <td>0.218895</td>\n",
       "      <td>43.175327</td>\n",
       "      <td>NaN</td>\n",
       "    </tr>\n",
       "  </tbody>\n",
       "</table>\n",
       "</div>"
      ],
      "text/plain": [
       "     Name  friction coeff  adhesive dist  force fraction  restitution coeff  \\\n",
       "0    sim2        0.440000       0.001100        0.220000           0.220000   \n",
       "1    sim4        0.350000       0.000700        0.400000           0.170000   \n",
       "5    sim9        0.500000       0.001000        0.200000           0.200000   \n",
       "6   sim10        0.300000       0.001200        0.320000           0.290000   \n",
       "16  sim21        0.260416       0.001039        0.315308           0.367341   \n",
       "\n",
       "    rolling resistance  tangential stiffness  simulated AoR  predicted AoR  \n",
       "0             0.320000              0.520000      42.957606            NaN  \n",
       "1             0.320000              0.750000      43.763328            NaN  \n",
       "5             0.400000              0.700000      48.167879            NaN  \n",
       "6             0.300000              0.400000      46.872942            NaN  \n",
       "16            0.550838              0.218895      43.175327            NaN  "
      ]
     },
     "execution_count": 1109,
     "metadata": {},
     "output_type": "execute_result"
    }
   ],
   "source": [
    "drop_indexes = [2, 3, 4, 7, 8, 9, 10, 11, 12, 13, 14, 15, 18]\n",
    "df_drop = df.copy()\n",
    "df_drop.drop(drop_indexes, axis=0, inplace=True)\n",
    "df_drop.head()"
   ]
  },
  {
   "cell_type": "code",
   "execution_count": 1110,
   "metadata": {},
   "outputs": [
    {
     "name": "stdout",
     "output_type": "stream",
     "text": [
      "(21, 6) (8, 6)\n"
     ]
    }
   ],
   "source": [
    "set_orig = df.to_numpy()\n",
    "set_drop = df_drop.to_numpy()\n",
    "\n",
    "X_orig = set_orig[:,1:7]\n",
    "y_orig = set_orig[:,7]\n",
    "\n",
    "X_drop = set_drop[:,1:7]\n",
    "y_drop = set_drop[:,7]\n",
    "print(X_orig.shape, X_drop.shape)"
   ]
  },
  {
   "cell_type": "code",
   "execution_count": 1111,
   "metadata": {},
   "outputs": [],
   "source": [
    "def list_files_in_dir(path):\n",
    "    file_list = []\n",
    "    for fname in os.listdir(path):\n",
    "        newpath = os.path.join(path, fname)\n",
    "        if os.path.isdir(newpath):\n",
    "            # skip directories\n",
    "            continue\n",
    "        file_list.append(fname)\n",
    "    file_list.sort(key=lambda f: int(''.join(filter(str.isdigit, f))))\n",
    "    return file_list"
   ]
  },
  {
   "cell_type": "code",
   "execution_count": 1112,
   "metadata": {},
   "outputs": [],
   "source": [
    "# def evaluate_model(y, y_hat):\n",
    "#     pred_r2 = r2_score(y, y_hat) \n",
    "#     pred_MAE = mean_absolute_error(y, y_hat) \n",
    "#     pred_MSE = mean_squared_error(y, y_hat) \n",
    "#     return [pred_r2, pred_MAE, pred_MSE]"
   ]
  },
  {
   "cell_type": "code",
   "execution_count": 1113,
   "metadata": {},
   "outputs": [],
   "source": [
    "def evaluate_model(input_model, X_test, y_test):\n",
    "    y_hat = input_model.predict(X_test)\n",
    "    curr_r2 = r2_score(y_test, y_hat) \n",
    "    curr_MAE = mean_absolute_error(y_test, y_hat) \n",
    "    curr_MSE = mean_squared_error(y_test, y_hat) \n",
    "    return curr_r2, curr_MAE, curr_MSE\n",
    "    print(f\"{algo}\\t{curr_r2=:.2f}\\t{curr_MAE=:.2f}\\t{curr_MSE=:.2f}\")\n",
    "    X_train.append(X_tr)\n",
    "    model_scores.append([algo, curr_r2, curr_MAE, curr_MSE])"
   ]
  },
  {
   "cell_type": "code",
   "execution_count": 1114,
   "metadata": {},
   "outputs": [],
   "source": [
    "path_to_dir = \"new3/\"\n",
    "# path_to_dir = \"models/\"\n",
    "model_list = list_files_in_dir(path_to_dir)"
   ]
  },
  {
   "cell_type": "code",
   "execution_count": 1115,
   "metadata": {},
   "outputs": [
    {
     "name": "stdout",
     "output_type": "stream",
     "text": [
      "(8, 6) (8,)\n"
     ]
    }
   ],
   "source": [
    "print(X_drop.shape, y_drop.shape)"
   ]
  },
  {
   "cell_type": "code",
   "execution_count": 1116,
   "metadata": {},
   "outputs": [
    {
     "data": {
      "text/plain": [
       "{'alpha': 1.0,\n",
       " 'copy_X': True,\n",
       " 'fit_intercept': True,\n",
       " 'max_iter': 1000,\n",
       " 'normalize': 'deprecated',\n",
       " 'positive': False,\n",
       " 'precompute': False,\n",
       " 'random_state': None,\n",
       " 'selection': 'cyclic',\n",
       " 'tol': 0.0001,\n",
       " 'warm_start': False}"
      ]
     },
     "execution_count": 1116,
     "metadata": {},
     "output_type": "execute_result"
    }
   ],
   "source": [
    "from sklearn.pipeline import make_pipeline\n",
    "from sklearn.linear_model import Ridge, Lasso, ElasticNet, LinearRegression\n",
    "from sklearn.ensemble import RandomForestRegressor, GradientBoostingRegressor\n",
    "Lasso().get_params()"
   ]
  },
  {
   "cell_type": "code",
   "execution_count": 1117,
   "metadata": {},
   "outputs": [],
   "source": [
    "errors = []\n",
    "errors_drop = []\n",
    "predicted_aor = []\n",
    "predicted_aor_drop = []\n",
    "evaluated_models = []\n",
    "for iter, file in enumerate(model_list):\n",
    "    predicted_aor = []\n",
    "    errors = []\n",
    "    loaded_model = pickle.load(open(f'{path_to_dir}{file}', 'rb'))\n",
    "\n",
    "    curr_r2, curr_MAE, curr_MSE = evaluate_model(loaded_model, X_orig, y_orig)\n",
    "        # loaded_model = pickle.load(open(f\"models/{file}\", 'rb'))\n",
    "        # loaded_model = pickle.load(open(f\"rf_regressor.pkl\", 'rb'))\n",
    "        # y_hat = loaded_model.predict(X_orig)\n",
    "        # print(i)\n",
    "    # print(f'Started {file}: {iter}')\n",
    "\n",
    "    # if res[0] > 0.5:\n",
    "    #     print(f'Started {file}: {iter}')\n",
    "    #     print(res)\n",
    "    evaluated_models.append([file, curr_r2, curr_MAE, curr_MSE])\n",
    "\n",
    "# print(evaluated_models)\n"
   ]
  },
  {
   "cell_type": "code",
   "execution_count": 1118,
   "metadata": {},
   "outputs": [],
   "source": [
    "# scores_array = np.zeros([len(evaluated_models),8])"
   ]
  },
  {
   "cell_type": "code",
   "execution_count": 1119,
   "metadata": {},
   "outputs": [
    {
     "data": {
      "text/plain": [
       "[['enet_0.2_42_aug1j.pkl',\n",
       "  0.5728073265049669,\n",
       "  2.8680549083956923,\n",
       "  12.761464838241945],\n",
       " ['gb_0.2_42_aug1j.pkl',\n",
       "  0.33305869756267825,\n",
       "  3.6082364590789076,\n",
       "  19.923440892822633],\n",
       " ['lasso_0.2_42_aug1j.pkl',\n",
       "  0.4207787712911981,\n",
       "  3.3861323046667517,\n",
       "  17.302991840323813],\n",
       " ['lr_0.2_42_aug1j.pkl',\n",
       "  0.5728073265049898,\n",
       "  2.8680549083956266,\n",
       "  12.761464838241263],\n",
       " ['rf_0.2_42_aug1j.pkl',\n",
       "  0.23985716895941778,\n",
       "  3.829733170128722,\n",
       "  22.7076366525721],\n",
       " ['ridge_0.2_42_aug1j.pkl',\n",
       "  0.38268950025287685,\n",
       "  3.5458070669721864,\n",
       "  18.440827115196466],\n",
       " ['enet_0.2_42_aug3j.pkl',\n",
       "  0.5261554758781231,\n",
       "  3.068041475667773,\n",
       "  14.155088812507756],\n",
       " ['gb_0.2_42_aug3j.pkl',\n",
       "  0.5023571699909657,\n",
       "  3.406714275424852,\n",
       "  14.866012156075385],\n",
       " ['lasso_0.2_42_aug3j.pkl',\n",
       "  0.42916604195349084,\n",
       "  3.2704696536845126,\n",
       "  17.05244011908295],\n",
       " ['lr_0.2_42_aug3j.pkl',\n",
       "  0.5261554758780769,\n",
       "  3.06804147566795,\n",
       "  14.155088812509131],\n",
       " ['rf_0.2_42_aug3j.pkl',\n",
       "  0.41625939642751264,\n",
       "  3.7255932363871147,\n",
       "  17.437998470802523],\n",
       " ['ridge_0.2_42_aug3j.pkl',\n",
       "  0.4235007193520818,\n",
       "  3.2676192159824957,\n",
       "  17.221679480291282],\n",
       " ['enet_0.2_42_aug4j.pkl',\n",
       "  0.5800409255840895,\n",
       "  2.975235002672113,\n",
       "  12.545376581046598],\n",
       " ['gb_0.2_42_aug4j.pkl',\n",
       "  0.3546946746664563,\n",
       "  3.6065012084182553,\n",
       "  19.27711248369536],\n",
       " ['lasso_0.2_42_aug4j.pkl',\n",
       "  0.3624408004378884,\n",
       "  3.426698764814271,\n",
       "  19.045713590882],\n",
       " ['lr_0.2_42_aug4j.pkl',\n",
       "  0.5800409255844624,\n",
       "  2.9752350026703573,\n",
       "  12.54537658103546],\n",
       " ['rf_0.2_42_aug4j.pkl',\n",
       "  0.5838365792000332,\n",
       "  2.7147295634684374,\n",
       "  12.431989570539796],\n",
       " ['ridge_0.2_42_aug4j.pkl',\n",
       "  0.35187237866028875,\n",
       "  3.4675549791276654,\n",
       "  19.361422523357675],\n",
       " ['enet_0.2_42_aug5j.pkl',\n",
       "  0.6499224684175733,\n",
       "  2.696443462586911,\n",
       "  10.457815377303318],\n",
       " ['gb_0.2_42_aug5j.pkl',\n",
       "  0.41009606788833275,\n",
       "  3.798349634892499,\n",
       "  17.622114691232486],\n",
       " ['lasso_0.2_42_aug5j.pkl',\n",
       "  0.41489064553609856,\n",
       "  3.440280234813142,\n",
       "  17.478886967859804],\n",
       " ['lr_0.2_42_aug5j.pkl',\n",
       "  0.6499224684174325,\n",
       "  2.6964434625874167,\n",
       "  10.457815377307526],\n",
       " ['rf_0.2_42_aug5j.pkl',\n",
       "  0.5467734462305776,\n",
       "  3.025487561045756,\n",
       "  13.539171171561081],\n",
       " ['ridge_0.2_42_aug5j.pkl',\n",
       "  0.4225574409843078,\n",
       "  3.4171038824643554,\n",
       "  17.249857898297698],\n",
       " ['enet_0.2_42_aug6j.pkl',\n",
       "  0.5672524121167306,\n",
       "  2.9175094753887487,\n",
       "  12.927405990895508],\n",
       " ['gb_0.2_42_aug6j.pkl',\n",
       "  0.432569918008348,\n",
       "  3.6019919239256746,\n",
       "  16.950756622892794],\n",
       " ['lasso_0.2_42_aug6j.pkl',\n",
       "  0.43610360139245197,\n",
       "  3.191622366782372,\n",
       "  16.845195411164177],\n",
       " ['lr_0.2_42_aug6j.pkl',\n",
       "  0.5672524121167093,\n",
       "  2.9175094753889113,\n",
       "  12.927405990896142],\n",
       " ['rf_0.2_42_aug6j.pkl',\n",
       "  0.6816264153361569,\n",
       "  2.522110085571035,\n",
       "  9.510727964673109],\n",
       " ['ridge_0.2_42_aug6j.pkl',\n",
       "  0.46444772916199084,\n",
       "  3.060913111176679,\n",
       "  15.998475389160308],\n",
       " ['enet_0.2_42_aug7j.pkl',\n",
       "  0.6260860949070924,\n",
       "  2.7410386895782612,\n",
       "  11.169875909466775],\n",
       " ['gb_0.2_42_aug7j.pkl',\n",
       "  0.36898263488753413,\n",
       "  3.6247249505507892,\n",
       "  18.85029031823141],\n",
       " ['lasso_0.2_42_aug7j.pkl',\n",
       "  0.4468205326768322,\n",
       "  3.24454234643976,\n",
       "  16.52505007571038],\n",
       " ['lr_0.2_42_aug7j.pkl',\n",
       "  0.6260860949069482,\n",
       "  2.74103868957906,\n",
       "  11.169875909471084],\n",
       " ['rf_0.2_42_aug7j.pkl',\n",
       "  0.6694987118966251,\n",
       "  2.5091617897634375,\n",
       "  9.873017092307245],\n",
       " ['ridge_0.2_42_aug7j.pkl',\n",
       "  0.5071645020753236,\n",
       "  3.001928650610178,\n",
       "  14.722403421266412],\n",
       " ['enet_0.2_42_aug8j.pkl',\n",
       "  0.6332789445275796,\n",
       "  2.7093144863796246,\n",
       "  10.955004954944949],\n",
       " ['gb_0.2_42_aug8j.pkl',\n",
       "  0.11500166164055592,\n",
       "  3.945846260417769,\n",
       "  26.437427132064116],\n",
       " ['lasso_0.2_42_aug8j.pkl',\n",
       "  0.4375271898892661,\n",
       "  3.2883947510521034,\n",
       "  16.80266875826635],\n",
       " ['lr_0.2_42_aug8j.pkl',\n",
       "  0.6332789445271022,\n",
       "  2.70931448638243,\n",
       "  10.955004954959211],\n",
       " ['rf_0.2_42_aug8j.pkl',\n",
       "  0.6548900483452715,\n",
       "  2.5244899335247157,\n",
       "  10.30941958188897],\n",
       " ['ridge_0.2_42_aug8j.pkl',\n",
       "  0.5554440838497041,\n",
       "  2.8035614026505096,\n",
       "  13.280154470276509]]"
      ]
     },
     "execution_count": 1119,
     "metadata": {},
     "output_type": "execute_result"
    }
   ],
   "source": [
    "evaluated_models"
   ]
  },
  {
   "cell_type": "code",
   "execution_count": 1120,
   "metadata": {},
   "outputs": [],
   "source": [
    "scores_array = np.array(evaluated_models)"
   ]
  },
  {
   "cell_type": "code",
   "execution_count": null,
   "metadata": {},
   "outputs": [],
   "source": []
  },
  {
   "cell_type": "code",
   "execution_count": 1121,
   "metadata": {},
   "outputs": [
    {
     "name": "stdout",
     "output_type": "stream",
     "text": [
      "['0.5728073265049669' '0.33305869756267825' '0.4207787712911981'\n",
      " '0.5728073265049898' '0.23985716895941778' '0.38268950025287685'\n",
      " '0.5261554758781231' '0.5023571699909657' '0.42916604195349084'\n",
      " '0.5261554758780769' '0.41625939642751264' '0.4235007193520818'\n",
      " '0.5800409255840895' '0.3546946746664563' '0.3624408004378884'\n",
      " '0.5800409255844624' '0.5838365792000332' '0.35187237866028875'\n",
      " '0.6499224684175733' '0.41009606788833275' '0.41489064553609856'\n",
      " '0.6499224684174325' '0.5467734462305776' '0.4225574409843078'\n",
      " '0.5672524121167306' '0.432569918008348' '0.43610360139245197'\n",
      " '0.5672524121167093' '0.6816264153361569' '0.46444772916199084'\n",
      " '0.6260860949070924' '0.36898263488753413' '0.4468205326768322'\n",
      " '0.6260860949069482' '0.6694987118966251' '0.5071645020753236'\n",
      " '0.6332789445275796' '0.11500166164055592' '0.4375271898892661'\n",
      " '0.6332789445271022' '0.6548900483452715' '0.5554440838497041']\n"
     ]
    }
   ],
   "source": [
    "print(scores_array[:,1])"
   ]
  },
  {
   "cell_type": "code",
   "execution_count": 1122,
   "metadata": {},
   "outputs": [],
   "source": [
    "import re\n",
    "scores_array2 = []\n",
    "\n",
    "for i, contents in enumerate(scores_array):\n",
    "    splitted = contents[0].split('_')\n",
    "    splitted[0] = ''.join([i for i in splitted[0] if not i.isdigit()])\n",
    "    try:    \n",
    "        splitted[3] = int(''.join(filter(str.isdigit, splitted[3])))\n",
    "    except:\n",
    "        pass\n",
    "    if len(splitted)>4:\n",
    "    # if contents\n",
    "        print(splitted)\n",
    "    scores_array2.append(splitted)\n",
    "\n",
    "# evaluated_models.append(scores_array2)\n"
   ]
  },
  {
   "cell_type": "code",
   "execution_count": 1123,
   "metadata": {},
   "outputs": [],
   "source": [
    "length = max(map(len, scores_array2))\n",
    "y=np.array([xi+[None]*(length-len(xi)) for xi in scores_array2])\n",
    "\n"
   ]
  },
  {
   "cell_type": "code",
   "execution_count": 1124,
   "metadata": {},
   "outputs": [],
   "source": [
    "import pandas as pd\n",
    "columns = [\"Filename\", \"R2\", \"MAE\", \"MSE\", \"model\", \"split_size\", \"rand\", \"aug\"]\n",
    "data=np.hstack((scores_array,y))\n",
    "plotdata = pd.DataFrame(data,columns=columns)"
   ]
  },
  {
   "cell_type": "code",
   "execution_count": 1125,
   "metadata": {},
   "outputs": [],
   "source": [
    "plotdata['R2'] = plotdata['R2'].astype(float)\n",
    "plotdata['MAE'] = plotdata['MAE'].astype(float)\n",
    "plotdata['MSE'] = plotdata['MSE'].astype(float)\n",
    "plotdata['aug'] = plotdata['aug'].astype(int)"
   ]
  },
  {
   "cell_type": "code",
   "execution_count": 1126,
   "metadata": {},
   "outputs": [
    {
     "data": {
      "text/html": [
       "<div>\n",
       "<style scoped>\n",
       "    .dataframe tbody tr th:only-of-type {\n",
       "        vertical-align: middle;\n",
       "    }\n",
       "\n",
       "    .dataframe tbody tr th {\n",
       "        vertical-align: top;\n",
       "    }\n",
       "\n",
       "    .dataframe thead th {\n",
       "        text-align: right;\n",
       "    }\n",
       "</style>\n",
       "<table border=\"1\" class=\"dataframe\">\n",
       "  <thead>\n",
       "    <tr style=\"text-align: right;\">\n",
       "      <th></th>\n",
       "      <th>Filename</th>\n",
       "      <th>R2</th>\n",
       "      <th>MAE</th>\n",
       "      <th>MSE</th>\n",
       "      <th>model</th>\n",
       "      <th>split_size</th>\n",
       "      <th>rand</th>\n",
       "      <th>aug</th>\n",
       "    </tr>\n",
       "  </thead>\n",
       "  <tbody>\n",
       "    <tr>\n",
       "      <th>0</th>\n",
       "      <td>enet_0.2_42_aug1j.pkl</td>\n",
       "      <td>0.572807</td>\n",
       "      <td>2.868055</td>\n",
       "      <td>12.761465</td>\n",
       "      <td>enet</td>\n",
       "      <td>0.2</td>\n",
       "      <td>42</td>\n",
       "      <td>1</td>\n",
       "    </tr>\n",
       "    <tr>\n",
       "      <th>1</th>\n",
       "      <td>gb_0.2_42_aug1j.pkl</td>\n",
       "      <td>0.333059</td>\n",
       "      <td>3.608236</td>\n",
       "      <td>19.923441</td>\n",
       "      <td>gb</td>\n",
       "      <td>0.2</td>\n",
       "      <td>42</td>\n",
       "      <td>1</td>\n",
       "    </tr>\n",
       "    <tr>\n",
       "      <th>2</th>\n",
       "      <td>lasso_0.2_42_aug1j.pkl</td>\n",
       "      <td>0.420779</td>\n",
       "      <td>3.386132</td>\n",
       "      <td>17.302992</td>\n",
       "      <td>lasso</td>\n",
       "      <td>0.2</td>\n",
       "      <td>42</td>\n",
       "      <td>1</td>\n",
       "    </tr>\n",
       "    <tr>\n",
       "      <th>3</th>\n",
       "      <td>lr_0.2_42_aug1j.pkl</td>\n",
       "      <td>0.572807</td>\n",
       "      <td>2.868055</td>\n",
       "      <td>12.761465</td>\n",
       "      <td>lr</td>\n",
       "      <td>0.2</td>\n",
       "      <td>42</td>\n",
       "      <td>1</td>\n",
       "    </tr>\n",
       "    <tr>\n",
       "      <th>4</th>\n",
       "      <td>rf_0.2_42_aug1j.pkl</td>\n",
       "      <td>0.239857</td>\n",
       "      <td>3.829733</td>\n",
       "      <td>22.707637</td>\n",
       "      <td>rf</td>\n",
       "      <td>0.2</td>\n",
       "      <td>42</td>\n",
       "      <td>1</td>\n",
       "    </tr>\n",
       "  </tbody>\n",
       "</table>\n",
       "</div>"
      ],
      "text/plain": [
       "                 Filename        R2       MAE        MSE  model split_size  \\\n",
       "0   enet_0.2_42_aug1j.pkl  0.572807  2.868055  12.761465   enet        0.2   \n",
       "1     gb_0.2_42_aug1j.pkl  0.333059  3.608236  19.923441     gb        0.2   \n",
       "2  lasso_0.2_42_aug1j.pkl  0.420779  3.386132  17.302992  lasso        0.2   \n",
       "3     lr_0.2_42_aug1j.pkl  0.572807  2.868055  12.761465     lr        0.2   \n",
       "4     rf_0.2_42_aug1j.pkl  0.239857  3.829733  22.707637     rf        0.2   \n",
       "\n",
       "  rand  aug  \n",
       "0   42    1  \n",
       "1   42    1  \n",
       "2   42    1  \n",
       "3   42    1  \n",
       "4   42    1  "
      ]
     },
     "execution_count": 1126,
     "metadata": {},
     "output_type": "execute_result"
    }
   ],
   "source": [
    "sort_df = plotdata.loc[plotdata['R2'] > 0.1]\n",
    "sort_df.head()"
   ]
  },
  {
   "cell_type": "code",
   "execution_count": 1127,
   "metadata": {},
   "outputs": [
    {
     "data": {
      "image/png": "[encoded data removed]",
      "text/plain": [
       "<Figure size 640x480 with 1 Axes>"
      ]
     },
     "metadata": {},
     "output_type": "display_data"
    }
   ],
   "source": [
    "# gca stands for 'get current axis'\n",
    "import matplotlib.pyplot as plt\n",
    "sort_df.groupby(['aug','model']).size().plot(kind='bar',stacked=True)\n",
    "plt.show()\n"
   ]
  },
  {
   "cell_type": "code",
   "execution_count": 1128,
   "metadata": {},
   "outputs": [
    {
     "data": {
      "text/plain": [
       "<AxesSubplot: >"
      ]
     },
     "execution_count": 1128,
     "metadata": {},
     "output_type": "execute_result"
    },
    {
     "data": {
      "image/png": "[encoded data removed]",
      "text/plain": [
       "<Figure size 640x480 with 1 Axes>"
      ]
     },
     "metadata": {},
     "output_type": "display_data"
    }
   ],
   "source": [
    "sort_df.plot(kind='bar', stacked=True, color=['red', 'skyblue', 'green'])\n"
   ]
  },
  {
   "cell_type": "code",
   "execution_count": 1152,
   "metadata": {},
   "outputs": [
    {
     "data": {
      "text/plain": [
       "<AxesSubplot: xlabel='model', ylabel='MAE'>"
      ]
     },
     "execution_count": 1152,
     "metadata": {},
     "output_type": "execute_result"
    },
    {
     "data": {
      "image/png": "[encoded data removed]",
      "text/plain": [
       "<Figure size 640x480 with 1 Axes>"
      ]
     },
     "metadata": {},
     "output_type": "display_data"
    }
   ],
   "source": [
    "import seaborn as sns\n",
    "sns.barplot(data=sort_df, x=\"model\", y=\"MAE\", hue=\"aug\", palette=\"YlOrRd_r\")"
   ]
  },
  {
   "cell_type": "code",
   "execution_count": null,
   "metadata": {},
   "outputs": [],
   "source": [
    "\n"
   ]
  },
  {
   "cell_type": "code",
   "execution_count": 1130,
   "metadata": {},
   "outputs": [
    {
     "data": {
      "text/plain": [
       "array(['gb_0.2_42_aug1j.pkl', '0.33305869756267825', '3.6082364590789076',\n",
       "       '19.923440892822633'], dtype='<U32')"
      ]
     },
     "execution_count": 1130,
     "metadata": {},
     "output_type": "execute_result"
    }
   ],
   "source": [
    "scores_array[1]"
   ]
  },
  {
   "cell_type": "code",
   "execution_count": 1131,
   "metadata": {},
   "outputs": [
    {
     "data": {
      "image/png": "[encoded data removed]",
      "text/plain": [
       "<Figure size 640x480 with 1 Axes>"
      ]
     },
     "metadata": {},
     "output_type": "display_data"
    }
   ],
   "source": [
    "import matplotlib.pyplot as plt\n",
    "import numpy as np\n",
    "\n",
    "\n",
    "# labels = ['G1', 'G2', 'G3', 'G4', 'G5']\n",
    "labels =scores_array[0:5,0]\n",
    "\n",
    "x = np.arange(len(labels))  # the label locations\n",
    "width = 0.2  # the width of the bars\n",
    "\n",
    "fig, ax = plt.subplots()\n",
    "rects1 = ax.bar(x - width/2, scores_array[0:5,1], width, label='R2')\n",
    "rects2 = ax.bar(x + width/2, scores_array[0:5,2], width, label='MAE')\n",
    "\n",
    "# Add some text for labels, title and custom x-axis tick labels, etc.\n",
    "ax.set_ylabel('Scores')\n",
    "ax.set_title('Scores by group and gender')\n",
    "ax.set_xticks(x, labels)\n",
    "ax.legend()\n",
    "\n",
    "ax.bar_label(rects1, padding=3)\n",
    "ax.bar_label(rects2, padding=3)\n",
    "\n",
    "fig.tight_layout()\n",
    "\n",
    "plt.show()"
   ]
  },
  {
   "cell_type": "code",
   "execution_count": 1132,
   "metadata": {},
   "outputs": [
    {
     "data": {
      "text/plain": [
       "(0.7245994707229866, 2.2397974441796955, 8.227000107581881)"
      ]
     },
     "execution_count": 1132,
     "metadata": {},
     "output_type": "execute_result"
    }
   ],
   "source": [
    "loaded_model = pickle.load(open(f'new2/rf_0.2_42_aug9j.pkl', 'rb'))\n",
    "evaluate_model(loaded_model, X_orig, y_orig)\n"
   ]
  },
  {
   "cell_type": "code",
   "execution_count": 1133,
   "metadata": {},
   "outputs": [
    {
     "name": "stdout",
     "output_type": "stream",
     "text": [
      "Fitting 5 folds for each of 36 candidates, totalling 180 fits\n",
      "Fitting 5 folds for each of 36 candidates, totalling 180 fits\n",
      "Fitting 5 folds for each of 36 candidates, totalling 180 fits\n",
      "Fitting 5 folds for each of 36 candidates, totalling 180 fits\n",
      "Fitting 5 folds for each of 36 candidates, totalling 180 fits\n",
      "Accuracy score via cross-validation:\n",
      "-4.588 ± 1.015\n"
     ]
    }
   ],
   "source": [
    "from sklearn.model_selection import cross_validate\n",
    "cv_results = cross_validate(loaded_model, X_orig, y_orig)\n",
    "scores = cv_results[\"test_score\"]\n",
    "print(f\"Accuracy score via cross-validation:\\n\"\n",
    "      f\"{scores.mean():.3f} ± {scores.std():.3f}\")"
   ]
  },
  {
   "cell_type": "code",
   "execution_count": 1134,
   "metadata": {},
   "outputs": [
    {
     "ename": "ValueError",
     "evalue": "Length of values (0) does not match length of index (21)",
     "output_type": "error",
     "traceback": [
      "\u001b[1;31m---------------------------------------------------------------------------\u001b[0m",
      "\u001b[1;31mValueError\u001b[0m                                Traceback (most recent call last)",
      "Cell \u001b[1;32mIn [1134], line 1\u001b[0m\n\u001b[1;32m----> 1\u001b[0m df[\u001b[39m'\u001b[39;49m\u001b[39mpredicted AoR\u001b[39;49m\u001b[39m'\u001b[39;49m] \u001b[39m=\u001b[39m predicted_aor\n\u001b[0;32m      2\u001b[0m df[\u001b[39m'\u001b[39m\u001b[39merror\u001b[39m\u001b[39m'\u001b[39m] \u001b[39m=\u001b[39m errors\n\u001b[0;32m      3\u001b[0m df_drop[\u001b[39m'\u001b[39m\u001b[39mpredicted AoR\u001b[39m\u001b[39m'\u001b[39m] \u001b[39m=\u001b[39m predicted_aor_drop\n",
      "File \u001b[1;32mc:\\Users\\adamk\\Projects\\angle-of-repose-ML\\.venvML\\lib\\site-packages\\pandas\\core\\frame.py:3978\u001b[0m, in \u001b[0;36mDataFrame.__setitem__\u001b[1;34m(self, key, value)\u001b[0m\n\u001b[0;32m   3975\u001b[0m     \u001b[39mself\u001b[39m\u001b[39m.\u001b[39m_setitem_array([key], value)\n\u001b[0;32m   3976\u001b[0m \u001b[39melse\u001b[39;00m:\n\u001b[0;32m   3977\u001b[0m     \u001b[39m# set column\u001b[39;00m\n\u001b[1;32m-> 3978\u001b[0m     \u001b[39mself\u001b[39;49m\u001b[39m.\u001b[39;49m_set_item(key, value)\n",
      "File \u001b[1;32mc:\\Users\\adamk\\Projects\\angle-of-repose-ML\\.venvML\\lib\\site-packages\\pandas\\core\\frame.py:4172\u001b[0m, in \u001b[0;36mDataFrame._set_item\u001b[1;34m(self, key, value)\u001b[0m\n\u001b[0;32m   4162\u001b[0m \u001b[39mdef\u001b[39;00m \u001b[39m_set_item\u001b[39m(\u001b[39mself\u001b[39m, key, value) \u001b[39m-\u001b[39m\u001b[39m>\u001b[39m \u001b[39mNone\u001b[39;00m:\n\u001b[0;32m   4163\u001b[0m     \u001b[39m\"\"\"\u001b[39;00m\n\u001b[0;32m   4164\u001b[0m \u001b[39m    Add series to DataFrame in specified column.\u001b[39;00m\n\u001b[0;32m   4165\u001b[0m \n\u001b[1;32m   (...)\u001b[0m\n\u001b[0;32m   4170\u001b[0m \u001b[39m    ensure homogeneity.\u001b[39;00m\n\u001b[0;32m   4171\u001b[0m \u001b[39m    \"\"\"\u001b[39;00m\n\u001b[1;32m-> 4172\u001b[0m     value \u001b[39m=\u001b[39m \u001b[39mself\u001b[39;49m\u001b[39m.\u001b[39;49m_sanitize_column(value)\n\u001b[0;32m   4174\u001b[0m     \u001b[39mif\u001b[39;00m (\n\u001b[0;32m   4175\u001b[0m         key \u001b[39min\u001b[39;00m \u001b[39mself\u001b[39m\u001b[39m.\u001b[39mcolumns\n\u001b[0;32m   4176\u001b[0m         \u001b[39mand\u001b[39;00m value\u001b[39m.\u001b[39mndim \u001b[39m==\u001b[39m \u001b[39m1\u001b[39m\n\u001b[0;32m   4177\u001b[0m         \u001b[39mand\u001b[39;00m \u001b[39mnot\u001b[39;00m is_extension_array_dtype(value)\n\u001b[0;32m   4178\u001b[0m     ):\n\u001b[0;32m   4179\u001b[0m         \u001b[39m# broadcast across multiple columns if necessary\u001b[39;00m\n\u001b[0;32m   4180\u001b[0m         \u001b[39mif\u001b[39;00m \u001b[39mnot\u001b[39;00m \u001b[39mself\u001b[39m\u001b[39m.\u001b[39mcolumns\u001b[39m.\u001b[39mis_unique \u001b[39mor\u001b[39;00m \u001b[39misinstance\u001b[39m(\u001b[39mself\u001b[39m\u001b[39m.\u001b[39mcolumns, MultiIndex):\n",
      "File \u001b[1;32mc:\\Users\\adamk\\Projects\\angle-of-repose-ML\\.venvML\\lib\\site-packages\\pandas\\core\\frame.py:4905\u001b[0m, in \u001b[0;36mDataFrame._sanitize_column\u001b[1;34m(self, value)\u001b[0m\n\u001b[0;32m   4902\u001b[0m     \u001b[39mreturn\u001b[39;00m _reindex_for_setitem(Series(value), \u001b[39mself\u001b[39m\u001b[39m.\u001b[39mindex)\n\u001b[0;32m   4904\u001b[0m \u001b[39mif\u001b[39;00m is_list_like(value):\n\u001b[1;32m-> 4905\u001b[0m     com\u001b[39m.\u001b[39;49mrequire_length_match(value, \u001b[39mself\u001b[39;49m\u001b[39m.\u001b[39;49mindex)\n\u001b[0;32m   4906\u001b[0m \u001b[39mreturn\u001b[39;00m sanitize_array(value, \u001b[39mself\u001b[39m\u001b[39m.\u001b[39mindex, copy\u001b[39m=\u001b[39m\u001b[39mTrue\u001b[39;00m, allow_2d\u001b[39m=\u001b[39m\u001b[39mTrue\u001b[39;00m)\n",
      "File \u001b[1;32mc:\\Users\\adamk\\Projects\\angle-of-repose-ML\\.venvML\\lib\\site-packages\\pandas\\core\\common.py:561\u001b[0m, in \u001b[0;36mrequire_length_match\u001b[1;34m(data, index)\u001b[0m\n\u001b[0;32m    557\u001b[0m \u001b[39m\"\"\"\u001b[39;00m\n\u001b[0;32m    558\u001b[0m \u001b[39mCheck the length of data matches the length of the index.\u001b[39;00m\n\u001b[0;32m    559\u001b[0m \u001b[39m\"\"\"\u001b[39;00m\n\u001b[0;32m    560\u001b[0m \u001b[39mif\u001b[39;00m \u001b[39mlen\u001b[39m(data) \u001b[39m!=\u001b[39m \u001b[39mlen\u001b[39m(index):\n\u001b[1;32m--> 561\u001b[0m     \u001b[39mraise\u001b[39;00m \u001b[39mValueError\u001b[39;00m(\n\u001b[0;32m    562\u001b[0m         \u001b[39m\"\u001b[39m\u001b[39mLength of values \u001b[39m\u001b[39m\"\u001b[39m\n\u001b[0;32m    563\u001b[0m         \u001b[39mf\u001b[39m\u001b[39m\"\u001b[39m\u001b[39m(\u001b[39m\u001b[39m{\u001b[39;00m\u001b[39mlen\u001b[39m(data)\u001b[39m}\u001b[39;00m\u001b[39m) \u001b[39m\u001b[39m\"\u001b[39m\n\u001b[0;32m    564\u001b[0m         \u001b[39m\"\u001b[39m\u001b[39mdoes not match length of index \u001b[39m\u001b[39m\"\u001b[39m\n\u001b[0;32m    565\u001b[0m         \u001b[39mf\u001b[39m\u001b[39m\"\u001b[39m\u001b[39m(\u001b[39m\u001b[39m{\u001b[39;00m\u001b[39mlen\u001b[39m(index)\u001b[39m}\u001b[39;00m\u001b[39m)\u001b[39m\u001b[39m\"\u001b[39m\n\u001b[0;32m    566\u001b[0m     )\n",
      "\u001b[1;31mValueError\u001b[0m: Length of values (0) does not match length of index (21)"
     ]
    }
   ],
   "source": [
    "df['predicted AoR'] = predicted_aor\n",
    "df['error'] = errors\n",
    "df_drop['predicted AoR'] = predicted_aor_drop\n",
    "df_drop['error'] = errors_drop\n"
   ]
  },
  {
   "cell_type": "code",
   "execution_count": null,
   "metadata": {},
   "outputs": [],
   "source": []
  },
  {
   "cell_type": "code",
   "execution_count": null,
   "metadata": {},
   "outputs": [],
   "source": [
    "y_test = np.array(df['simulated AoR'])\n",
    "y_hat = np.array(predicted_aor)\n",
    "y_test_dropped = np.array(df_drop['simulated AoR'])\n",
    "y_hat_dropped = np.array(predicted_aor_drop)\n",
    "print(y_test.shape)\n",
    "print(y_hat.shape)\n",
    "print(y_test_dropped.shape)\n",
    "print(y_hat_dropped.shape)\n"
   ]
  },
  {
   "cell_type": "code",
   "execution_count": null,
   "metadata": {},
   "outputs": [],
   "source": [
    "print(f'{len(y_hat_dropped)=}, {len(y_test_dropped)}')"
   ]
  },
  {
   "cell_type": "code",
   "execution_count": null,
   "metadata": {},
   "outputs": [],
   "source": [
    "y_test_dropped"
   ]
  },
  {
   "cell_type": "code",
   "execution_count": null,
   "metadata": {},
   "outputs": [],
   "source": [
    "for i in range(len(y_test)):\n",
    "    print(f'{y_test[i]=:.2f}, {y_test[i]=:.2f}')"
   ]
  },
  {
   "cell_type": "code",
   "execution_count": null,
   "metadata": {},
   "outputs": [],
   "source": [
    "writer = pd.ExcelWriter('predicted_aor_dropped.xlsx')\n",
    "# write dataframe to excel\n",
    " \n",
    "df_drop.to_excel(writer)\n",
    " \n",
    "# save the excel\n",
    "writer.save()\n",
    "print(\"DataFrame is exported successfully to 'converted-to-excel.xlsx' Excel File.\")\n"
   ]
  }
 ],
 "metadata": {
  "kernelspec": {
   "display_name": "Python 3.10.8 ('.venvML': venv)",
   "language": "python",
   "name": "python3"
  },
  "language_info": {
   "codemirror_mode": {
    "name": "ipython",
    "version": 3
   },
   "file_extension": ".py",
   "mimetype": "text/x-python",
   "name": "python",
   "nbconvert_exporter": "python",
   "pygments_lexer": "ipython3",
   "version": "3.10.8"
  },
  "orig_nbformat": 4,
  "vscode": {
   "interpreter": {
    "hash": "1b4d48f26e52be2a67f8c021b79cc8417aaa03976caf4f06facbde19b8dc6d04"
   }
  }
 },
 "nbformat": 4,
 "nbformat_minor": 2
}
